{
 "cells": [
  {
   "cell_type": "markdown",
   "metadata": {},
   "source": [
    "# Smartfin Ride API\n",
    "The Smartfin Ride API makes it quick and easy to obtain smartfin ride data using a Django REST API. \n",
    "\n",
    "All ride queries go through the ride endpoint, so all urls should be in the format:\n",
    "\"[domain name]/ride/\""
   ]
  },
  {
   "cell_type": "code",
   "execution_count": 1,
   "metadata": {},
   "outputs": [],
   "source": [
    "# jasmines ride ids\n",
    "# 14743 - Motion Control July 10th\n",
    "# 14750 - Magnetometer Control July 11th\n",
    "# 14814 - Pool Displacement Control July 17th\n",
    "# 14815 - Compass Orientation (Lying on Charger Side) July 19th\n",
    "# 14816 - Orientation w Higher Sampling (Lying on Charger Side) July 20th\n",
    "# 14827 - Pool Displacement Control w Higher Sampling (Jul 23)\n",
    "# 14888 - First Buoy Calibration Experiment (July 30)\n",
    "# 15218 - Jasmine's Second Ride Sesh filmed with GoPro (Aug 29) //no footage\n",
    "# 15629 - Jasmine's First Ride Sesh filmed with VIRB (Oct. 24) //first labelled footage!\n",
    "# 15669 - Jasmine's Second Ride Sesh filmed with VIRB (Nov. 7) //second labelled footage!\n",
    "# 15692 - Jasmine's 3rd Ride Sesh filmed with VIRB (Nov. 9) //third labelled footage!\n",
    "# 15686 - Jasmine's 4th Ride Sesh filmed with VIRB (Nov. 11) //fourth labelled footage!"
   ]
  },
  {
   "cell_type": "code",
   "execution_count": 2,
   "metadata": {},
   "outputs": [],
   "source": [
    "base_url_example = f'http://127.0.0.1:8000/ride/'"
   ]
  },
  {
   "cell_type": "code",
   "execution_count": 3,
   "metadata": {},
   "outputs": [],
   "source": [
    "rideId = '30000'\n",
    "field = 'heightSmartfin'\n",
    "fieldGetSingleExample = f'http://127.0.0.1:8000/ride/field-get/{rideId}/{field}/'"
   ]
  },
  {
   "cell_type": "markdown",
   "metadata": {},
   "source": [
    "## EXAMPLES OF EACH FUNCTION"
   ]
  },
  {
   "cell_type": "code",
   "execution_count": 4,
   "metadata": {},
   "outputs": [],
   "source": [
    "# imports\n",
    "import requests\n",
    "import pandas as pd\n",
    "from io import BytesIO"
   ]
  },
  {
   "cell_type": "markdown",
   "metadata": {},
   "source": [
    "## URLs"
   ]
  },
  {
   "cell_type": "markdown",
   "metadata": {},
   "source": [
    "'List all ride ids': '/ride-list/',\n",
    "\n",
    "'List all the ride fields': '/ride-fields/'\n",
    "\n",
    "'Get single ride': '/ride-get/<str:rideId>/',\n",
    "\n",
    "'Get random set of rides': '/many/ride-get/<int:count>/',\n",
    "\n",
    "'Filter rides by location': '/location/ride-get/<str:location>/',\n",
    "\n",
    "'Filter rides by date': '/date/ride-get/<str:startDate>/<str:endDate>/',\n",
    "\n",
    "'Get single ride attribute': 'field-get/<str:rideId>/<str:fields>/',\n",
    "\n",
    "'Get attributes of random set of rides': 'random/field-get/<int:count>/<str:fields>/',\n",
    "\n",
    "'Get attributes of rides filtered by location': 'location/field-get/<str:location>/<str:fields>/', \n",
    "\n",
    "'Get attributes of rides filtered by date': 'date/field-get/<str:startDate>/<str:endDate>/<str:fields>/',\n",
    "\n",
    "'Update heights of all rides in database': 'update-heights/',\n",
    "'Get list of active CDIP buoys': 'buoy-list/'"
   ]
  },
  {
   "cell_type": "code",
   "execution_count": 66,
   "metadata": {},
   "outputs": [],
   "source": [
    "testing = False # determines what url we are requesting from\n",
    "domainName = 'http://ec2-54-203-7-235.us-west-2.compute.amazonaws.com'"
   ]
  },
  {
   "cell_type": "markdown",
   "metadata": {},
   "source": [
    "## api info queries"
   ]
  },
  {
   "cell_type": "markdown",
   "metadata": {},
   "source": [
    "#### get all the ride ids in the database"
   ]
  },
  {
   "cell_type": "code",
   "execution_count": 67,
   "metadata": {},
   "outputs": [],
   "source": [
    "if testing: \n",
    "    apiOverview = f'http://127.0.0.1:8000/ride'\n",
    "else:\n",
    "    apiOverview = f'{domainName}/ride'"
   ]
  },
  {
   "cell_type": "code",
   "execution_count": 68,
   "metadata": {
    "scrolled": true
   },
   "outputs": [
    {
     "data": {
      "text/plain": [
       "{'List api endpoints': '/',\n",
       " 'List ride fields': '/fields',\n",
       " 'Get all rides in db': '/rides',\n",
       " 'Get field of all rides in db': '/rides/fields=<str:fields>',\n",
       " 'Get single ride': '/rides/rideId=<str:rideId>',\n",
       " 'Filter rides by location': '/rides/location=<str:location>',\n",
       " 'Filter rides by date': '/rides/startDate=<str:startDate>,endDate=<str:endDate>',\n",
       " 'Get single ride attribute': 'rides/rideId=<str:rideId>/fields=<str:fields>',\n",
       " 'Get attributes of rides filtered by location': 'rides/location=<str:location>/fields=<str:fields>',\n",
       " 'Get attributes of rides filtered by date': 'rides/startDate=<str:startDate>,endDate=<str:endDate>/fields=<str:fields>',\n",
       " 'Update heights of all rides in database': 'update-heights',\n",
       " 'Get list of active CDIP buoys': 'buoys'}"
      ]
     },
     "execution_count": 68,
     "metadata": {},
     "output_type": "execute_result"
    }
   ],
   "source": [
    "response = requests.get(apiOverview).json()\n",
    "response"
   ]
  },
  {
   "cell_type": "markdown",
   "metadata": {},
   "source": [
    "#### get list of ride data fields"
   ]
  },
  {
   "cell_type": "code",
   "execution_count": 71,
   "metadata": {},
   "outputs": [],
   "source": [
    "if testing:\n",
    "    rideFields = f'http://127.0.0.1:8000/ride/fields'\n",
    "else:\n",
    "    rideFields = f'{domainName}/ride/fields'"
   ]
  },
  {
   "cell_type": "code",
   "execution_count": 72,
   "metadata": {
    "scrolled": true
   },
   "outputs": [
    {
     "data": {
      "text/plain": [
       "{'id of smartfin session': 'rideId',\n",
       " 'location (city, county, state) of session': 'loc1, loc2, loc3',\n",
       " 'start time of session': 'startTime',\n",
       " 'end time of session': 'endTime',\n",
       " 'significant wave height calculated by smartfin': 'heightSmartfin',\n",
       " 'significant wave height reported by nearest CDIP buoy': 'heightCDIP',\n",
       " 'calibrated ocean temperature read by smartfin': 'tempSmartfin',\n",
       " 'ocean temperature reported by nearest CDIP buoy': 'tempCDIP',\n",
       " 'nearest CDIP buoy to smartfin session': 'buoyCDIP',\n",
       " 'latitude of smartfin session': 'latitude',\n",
       " 'longitude of smartfin session': 'longitude'}"
      ]
     },
     "execution_count": 72,
     "metadata": {},
     "output_type": "execute_result"
    }
   ],
   "source": [
    "response = requests.get(rideFields).json()\n",
    "response"
   ]
  },
  {
   "cell_type": "markdown",
   "metadata": {},
   "source": [
    "## get ride data"
   ]
  },
  {
   "cell_type": "markdown",
   "metadata": {},
   "source": [
    "#### get all rides in db"
   ]
  },
  {
   "cell_type": "code",
   "execution_count": 73,
   "metadata": {
    "scrolled": false
   },
   "outputs": [
    {
     "data": {
      "text/plain": [
       "[{'rideId': '15692',\n",
       "  'loc1': 'La Jolla',\n",
       "  'loc2': 'San Diego',\n",
       "  'loc3': 'San Diego County',\n",
       "  'startTime': 1541791072,\n",
       "  'endTime': 1541794669,\n",
       "  'heightSmartfin': 0.45672089982521735,\n",
       "  'tempSmartfin': 20.044069023569023,\n",
       "  'buoyCDIP': '201',\n",
       "  'heightCDIP': 0.4414551854133606,\n",
       "  'tempCDIP': 19.860002517700195,\n",
       "  'latitude': 32.86058653508772,\n",
       "  'longitude': -117.25365867324561},\n",
       " {'rideId': '16380',\n",
       "  'loc1': 'La Jolla',\n",
       "  'loc2': 'San Diego',\n",
       "  'loc3': 'San Diego County',\n",
       "  'startTime': 1576007501,\n",
       "  'endTime': 1576009710,\n",
       "  'heightSmartfin': 0.5629239738385494,\n",
       "  'tempSmartfin': 17.33151226158038,\n",
       "  'buoyCDIP': '201',\n",
       "  'heightCDIP': 0.7799999713897705,\n",
       "  'tempCDIP': 17.3487548828125,\n",
       "  'latitude': 32.85199169871795,\n",
       "  'longitude': -117.26305794871794},\n",
       " {'rideId': '13000',\n",
       "  'loc1': 'Fingal Head',\n",
       "  'loc2': 'Tweed Shire Council',\n",
       "  'loc3': 'New South Wales',\n",
       "  'startTime': 1514598846,\n",
       "  'endTime': 1514602746,\n",
       "  'heightSmartfin': 0.9584823352947973,\n",
       "  'tempSmartfin': 24.13346904024768,\n",
       "  'buoyCDIP': '121',\n",
       "  'heightCDIP': 1.6749999523162842,\n",
       "  'tempCDIP': 29.0,\n",
       "  'latitude': -28.203939752066116,\n",
       "  'longitude': 153.56985329545455},\n",
       " {'rideId': '16000',\n",
       "  'loc1': 'La Jolla',\n",
       "  'loc2': 'San Diego',\n",
       "  'loc3': 'San Diego County',\n",
       "  'startTime': 1552778033,\n",
       "  'endTime': 1552781386,\n",
       "  'heightSmartfin': 0.40845185873427914,\n",
       "  'tempSmartfin': 17.172475763016156,\n",
       "  'buoyCDIP': '201',\n",
       "  'heightCDIP': 0.45499998331069946,\n",
       "  'tempCDIP': 16.7945499420166,\n",
       "  'latitude': 32.85231859863946,\n",
       "  'longitude': -117.26381327891156}]"
      ]
     },
     "execution_count": 73,
     "metadata": {},
     "output_type": "execute_result"
    }
   ],
   "source": [
    "if testing:\n",
    "    rideList = f'http://127.0.0.1:8000/ride/rides'\n",
    "else:\n",
    "    rideList = f'{domainName}/ride/rides'\n",
    "\n",
    "response = requests.get(rideList).json()\n",
    "response"
   ]
  },
  {
   "cell_type": "markdown",
   "metadata": {},
   "source": [
    "#### get fields of all rides in db"
   ]
  },
  {
   "cell_type": "code",
   "execution_count": 74,
   "metadata": {},
   "outputs": [
    {
     "data": {
      "text/plain": [
       "{'data': [{'rideId': '15692',\n",
       "   'heightSmartfin': 0.45672089982521735,\n",
       "   'tempSmartfin': 20.044069023569023},\n",
       "  {'rideId': '16380',\n",
       "   'heightSmartfin': 0.5629239738385494,\n",
       "   'tempSmartfin': 17.33151226158038},\n",
       "  {'rideId': '13000',\n",
       "   'heightSmartfin': 0.9584823352947973,\n",
       "   'tempSmartfin': 24.13346904024768},\n",
       "  {'rideId': '16000',\n",
       "   'heightSmartfin': 0.40845185873427914,\n",
       "   'tempSmartfin': 17.172475763016156}]}"
      ]
     },
     "execution_count": 74,
     "metadata": {},
     "output_type": "execute_result"
    }
   ],
   "source": [
    "if testing:\n",
    "    rideList = f'http://127.0.0.1:8000/ride/rides/fields=heightSmartfin,tempSmartfin'\n",
    "else:\n",
    "    rideList = f'{domainName}/ride/rides/fields=heightSmartfin,tempSmartfin'\n",
    "\n",
    "response = requests.get(rideList).json()\n",
    "response"
   ]
  },
  {
   "cell_type": "markdown",
   "metadata": {},
   "source": [
    "### get single ride by id"
   ]
  },
  {
   "cell_type": "code",
   "execution_count": 95,
   "metadata": {
    "scrolled": true
   },
   "outputs": [
    {
     "data": {
      "text/plain": [
       "{'rideId': '15692',\n",
       " 'loc1': 'La Jolla',\n",
       " 'loc2': 'San Diego',\n",
       " 'loc3': 'San Diego County',\n",
       " 'startTime': 1541791072,\n",
       " 'endTime': 1541794669,\n",
       " 'heightSmartfin': 0.5037609424046369,\n",
       " 'tempSmartfin': 20.044069023569023,\n",
       " 'buoyCDIP': '201',\n",
       " 'heightCDIP': 0.4414551854133606,\n",
       " 'tempCDIP': 19.860002517700195,\n",
       " 'latitude': 32.86058653508772,\n",
       " 'longitude': -117.25365867324561}"
      ]
     },
     "execution_count": 95,
     "metadata": {},
     "output_type": "execute_result"
    }
   ],
   "source": [
    "rideId = '15692'\n",
    "if testing:\n",
    "    rideGetSingle = f'http://127.0.0.1:8000/ride/rides/rideId={rideId}' # creates new ride and upload all ride data to db\n",
    "else:\n",
    "    rideGetSingle = f'{domainName}/ride/rides/rideId={rideId}' # creates new ride and upload all ride data to db\n",
    "\n",
    "response = requests.get(rideGetSingle).json()\n",
    "response"
   ]
  },
  {
   "cell_type": "markdown",
   "metadata": {},
   "source": [
    "### get rides filtered by location"
   ]
  },
  {
   "cell_type": "code",
   "execution_count": 77,
   "metadata": {
    "scrolled": true
   },
   "outputs": [
    {
     "data": {
      "text/plain": [
       "[{'rideId': '15692',\n",
       "  'loc1': 'La Jolla',\n",
       "  'loc2': 'San Diego',\n",
       "  'loc3': 'San Diego County',\n",
       "  'startTime': 1541791072,\n",
       "  'endTime': 1541794669,\n",
       "  'heightSmartfin': 0.45672089982521735,\n",
       "  'tempSmartfin': 20.044069023569023,\n",
       "  'buoyCDIP': '201',\n",
       "  'heightCDIP': 0.4414551854133606,\n",
       "  'tempCDIP': 19.860002517700195,\n",
       "  'latitude': 32.86058653508772,\n",
       "  'longitude': -117.25365867324561},\n",
       " {'rideId': '16380',\n",
       "  'loc1': 'La Jolla',\n",
       "  'loc2': 'San Diego',\n",
       "  'loc3': 'San Diego County',\n",
       "  'startTime': 1576007501,\n",
       "  'endTime': 1576009710,\n",
       "  'heightSmartfin': 0.5629239738385494,\n",
       "  'tempSmartfin': 17.33151226158038,\n",
       "  'buoyCDIP': '201',\n",
       "  'heightCDIP': 0.7799999713897705,\n",
       "  'tempCDIP': 17.3487548828125,\n",
       "  'latitude': 32.85199169871795,\n",
       "  'longitude': -117.26305794871794},\n",
       " {'rideId': '16000',\n",
       "  'loc1': 'La Jolla',\n",
       "  'loc2': 'San Diego',\n",
       "  'loc3': 'San Diego County',\n",
       "  'startTime': 1552778033,\n",
       "  'endTime': 1552781386,\n",
       "  'heightSmartfin': 0.40845185873427914,\n",
       "  'tempSmartfin': 17.172475763016156,\n",
       "  'buoyCDIP': '201',\n",
       "  'heightCDIP': 0.45499998331069946,\n",
       "  'tempCDIP': 16.7945499420166,\n",
       "  'latitude': 32.85231859863946,\n",
       "  'longitude': -117.26381327891156}]"
      ]
     },
     "execution_count": 77,
     "metadata": {},
     "output_type": "execute_result"
    }
   ],
   "source": [
    "location = 'San Diego'\n",
    "\n",
    "if testing:\n",
    "    rideGetLocation = f'http://127.0.0.1:8000/ride/rides?location={location}' # creates new ride and upload all ride data to db\n",
    "else:\n",
    "    rideGetLocation = f'{domainName}/ride/rides/location={location}' # creates new ride and upload all ride data to db\n",
    "\n",
    "response = requests.get(rideGetLocation).json()\n",
    "response"
   ]
  },
  {
   "cell_type": "markdown",
   "metadata": {},
   "source": [
    "### get multiple rides between start and end date"
   ]
  },
  {
   "cell_type": "code",
   "execution_count": 78,
   "metadata": {
    "scrolled": true
   },
   "outputs": [
    {
     "data": {
      "text/plain": [
       "[{'rideId': '15692',\n",
       "  'loc1': 'La Jolla',\n",
       "  'loc2': 'San Diego',\n",
       "  'loc3': 'San Diego County',\n",
       "  'startTime': 1541791072,\n",
       "  'endTime': 1541794669,\n",
       "  'heightSmartfin': 0.45672089982521735,\n",
       "  'tempSmartfin': 20.044069023569023,\n",
       "  'buoyCDIP': '201',\n",
       "  'heightCDIP': 0.4414551854133606,\n",
       "  'tempCDIP': 19.860002517700195,\n",
       "  'latitude': 32.86058653508772,\n",
       "  'longitude': -117.25365867324561}]"
      ]
     },
     "execution_count": 78,
     "metadata": {},
     "output_type": "execute_result"
    }
   ],
   "source": [
    "startDate = '1541030400'\n",
    "endDate = '1552566400'\n",
    "\n",
    "if testing:\n",
    "    rideGetDate = f'http://127.0.0.1:8000/ride/rides/startDate={startDate},endDate={endDate}' # creates new ride and upload all ride data to db\n",
    "else:\n",
    "    rideGetDate = f'{domainName}/ride/rides/startDate={startDate},endDate={endDate}'  # creates new ride and upload all r\n",
    "\n",
    "response = requests.get(rideGetDate).json()\n",
    "response"
   ]
  },
  {
   "cell_type": "markdown",
   "metadata": {},
   "source": [
    "## Get field(s) of ride(s)\n",
    "gets a single attribute of a ride in the database. If count = 1, then we only retrieve the specified ride id, if count > 1, retrieve that amount of rides randomly"
   ]
  },
  {
   "cell_type": "code",
   "execution_count": 79,
   "metadata": {
    "scrolled": true
   },
   "outputs": [
    {
     "data": {
      "text/plain": [
       "{'rideId': '16380',\n",
       " 'heightSmartfin': 0.5629239738385494,\n",
       " 'heightCDIP': 0.7799999713897705}"
      ]
     },
     "execution_count": 79,
     "metadata": {},
     "output_type": "execute_result"
    }
   ],
   "source": [
    "fields = 'heightSmartfin,heightCDIP'\n",
    "\n",
    "\n",
    "if testing:\n",
    "    fieldGetSingle = f'http://127.0.0.1:8000/ride/rides/rideId={rideId}/fields={fields}' # creates new ride and upload all ride data to db\n",
    "else:\n",
    "    fieldGetSingle = f'{domainName}/ride/rides/rideId={rideId}/fields={fields}' # creates new ride and upload all ride data to db\n",
    "\n",
    "response = requests.get(fieldGetSingle).json()\n",
    "response"
   ]
  },
  {
   "cell_type": "markdown",
   "metadata": {},
   "source": [
    "### get fields of rides by location"
   ]
  },
  {
   "cell_type": "code",
   "execution_count": 80,
   "metadata": {
    "scrolled": true
   },
   "outputs": [
    {
     "data": {
      "text/plain": [
       "[{'rideId': '15692',\n",
       "  'heightSmartfin': 0.45672089982521735,\n",
       "  'heightCDIP': 0.4414551854133606},\n",
       " {'rideId': '16380',\n",
       "  'heightSmartfin': 0.5629239738385494,\n",
       "  'heightCDIP': 0.7799999713897705},\n",
       " {'rideId': '16000',\n",
       "  'heightSmartfin': 0.40845185873427914,\n",
       "  'heightCDIP': 0.45499998331069946}]"
      ]
     },
     "execution_count": 80,
     "metadata": {},
     "output_type": "execute_result"
    }
   ],
   "source": [
    "location = 'San Diego'\n",
    "\n",
    "if testing:\n",
    "    fieldGetLocation = f'http://127.0.0.1:8000/ride/rides/location={location}/fields={fields}' # creates new ride and upload all ride data to db\n",
    "else:\n",
    "    fieldGetLocation = f'{domainName}/ride/rides/location={location}/fields={fields}' # creates new ride and upload all ride data to db\n",
    "\n",
    "response = requests.get(fieldGetLocation)\n",
    "response.json()['data']"
   ]
  },
  {
   "cell_type": "markdown",
   "metadata": {},
   "source": [
    "### get fields of rides by date"
   ]
  },
  {
   "cell_type": "code",
   "execution_count": 81,
   "metadata": {},
   "outputs": [
    {
     "data": {
      "text/plain": [
       "{'data': [{'rideId': '15692',\n",
       "   'heightSmartfin': 0.45672089982521735,\n",
       "   'heightCDIP': 0.4414551854133606}]}"
      ]
     },
     "execution_count": 81,
     "metadata": {},
     "output_type": "execute_result"
    }
   ],
   "source": [
    "startDate = '1541030400'\n",
    "endDate = '1552566400'\n",
    "\n",
    "if testing:\n",
    "    fieldGetDate = f'http://127.0.0.1:8000/ride/rides/startDate={startDate},endDate={endDate}/fields={fields}' # creates new ride and upload all ride data to db\n",
    "else:\n",
    "    fieldGetDate = f'{domainName}/ride/rides/startDate={startDate},endDate={endDate}/fields={fields}' # creates new ride and upload all ride data to db\n",
    "\n",
    "    \n",
    "\n",
    "response = requests.get(fieldGetDate).json()\n",
    "response"
   ]
  },
  {
   "cell_type": "markdown",
   "metadata": {},
   "source": [
    "### list all active CDIP buoys"
   ]
  },
  {
   "cell_type": "code",
   "execution_count": 82,
   "metadata": {},
   "outputs": [],
   "source": [
    "if testing:\n",
    "    buoyList = 'http://127.0.0.1:8000/ride/buoys'\n",
    "else:\n",
    "    buoyList = f'{domainName}/ride/buoys'"
   ]
  },
  {
   "cell_type": "code",
   "execution_count": 83,
   "metadata": {
    "scrolled": true
   },
   "outputs": [
    {
     "data": {
      "text/plain": [
       "['028',\n",
       " '029',\n",
       " '036',\n",
       " '045',\n",
       " '067',\n",
       " '071',\n",
       " '076',\n",
       " '092',\n",
       " '094',\n",
       " '098',\n",
       " '100',\n",
       " '103',\n",
       " '106',\n",
       " '121',\n",
       " '132',\n",
       " '134',\n",
       " '139',\n",
       " '142',\n",
       " '143',\n",
       " '147',\n",
       " '150',\n",
       " '154',\n",
       " '155',\n",
       " '157',\n",
       " '158',\n",
       " '160',\n",
       " '162',\n",
       " '163',\n",
       " '166',\n",
       " '168',\n",
       " '179',\n",
       " '181',\n",
       " '185',\n",
       " '188',\n",
       " '189',\n",
       " '191',\n",
       " '192',\n",
       " '194',\n",
       " '196',\n",
       " '197',\n",
       " '198',\n",
       " '200',\n",
       " '201',\n",
       " '203',\n",
       " '204',\n",
       " '209',\n",
       " '213',\n",
       " '214',\n",
       " '215',\n",
       " '217',\n",
       " '220',\n",
       " '221',\n",
       " '222',\n",
       " '224',\n",
       " '225',\n",
       " '226',\n",
       " '233',\n",
       " '236',\n",
       " '238',\n",
       " '239',\n",
       " '240',\n",
       " '243',\n",
       " '244',\n",
       " '430',\n",
       " '433']"
      ]
     },
     "execution_count": 83,
     "metadata": {},
     "output_type": "execute_result"
    }
   ],
   "source": [
    "response = requests.get(buoyList)\n",
    "data = response.json()\n",
    "data"
   ]
  },
  {
   "cell_type": "markdown",
   "metadata": {},
   "source": [
    "### get dataframes"
   ]
  },
  {
   "cell_type": "code",
   "execution_count": 96,
   "metadata": {
    "scrolled": true
   },
   "outputs": [
    {
     "data": {
      "text/plain": [
       "<Response [200]>"
      ]
     },
     "execution_count": 96,
     "metadata": {},
     "output_type": "execute_result"
    }
   ],
   "source": [
    "rideId='15692'\n",
    "dftype= 'motion'\n",
    "if testing:\n",
    "    getdf = f'http://127.0.0.1:8000/ride/rides/rideId={rideId}/dataframes/type={dftype}'\n",
    "else:\n",
    "    getdf = f'{domainName}/ride/rides/rideId={rideId}/dataframes/type={dftype}'\n",
    "    \n",
    "response = requests.get(getdf)\n",
    "response"
   ]
  },
  {
   "cell_type": "code",
   "execution_count": 97,
   "metadata": {
    "scrolled": false
   },
   "outputs": [
    {
     "data": {
      "text/html": [
       "<div>\n",
       "<style scoped>\n",
       "    .dataframe tbody tr th:only-of-type {\n",
       "        vertical-align: middle;\n",
       "    }\n",
       "\n",
       "    .dataframe tbody tr th {\n",
       "        vertical-align: top;\n",
       "    }\n",
       "\n",
       "    .dataframe thead th {\n",
       "        text-align: right;\n",
       "    }\n",
       "</style>\n",
       "<table border=\"1\" class=\"dataframe\">\n",
       "  <thead>\n",
       "    <tr style=\"text-align: right;\">\n",
       "      <th></th>\n",
       "      <th>Timestamp</th>\n",
       "      <th>IMU A1</th>\n",
       "      <th>IMU A2</th>\n",
       "      <th>IMU A3</th>\n",
       "      <th>IMU G1</th>\n",
       "      <th>IMU G2</th>\n",
       "      <th>IMU G3</th>\n",
       "      <th>IMU M1</th>\n",
       "      <th>IMU M2</th>\n",
       "      <th>IMU M3</th>\n",
       "    </tr>\n",
       "  </thead>\n",
       "  <tbody>\n",
       "    <tr>\n",
       "      <th>0</th>\n",
       "      <td>1.541791e+09</td>\n",
       "      <td>-0.282516</td>\n",
       "      <td>-0.019154</td>\n",
       "      <td>2.317587</td>\n",
       "      <td>-21.50</td>\n",
       "      <td>23.00</td>\n",
       "      <td>2.5</td>\n",
       "      <td>-39.50</td>\n",
       "      <td>-171.00</td>\n",
       "      <td>186.00</td>\n",
       "    </tr>\n",
       "    <tr>\n",
       "      <th>1</th>\n",
       "      <td>1.541791e+09</td>\n",
       "      <td>0.268151</td>\n",
       "      <td>-0.282516</td>\n",
       "      <td>1.565808</td>\n",
       "      <td>7.00</td>\n",
       "      <td>15.25</td>\n",
       "      <td>16.5</td>\n",
       "      <td>-42.25</td>\n",
       "      <td>-165.25</td>\n",
       "      <td>195.25</td>\n",
       "    </tr>\n",
       "    <tr>\n",
       "      <th>2</th>\n",
       "      <td>1.541791e+09</td>\n",
       "      <td>-0.215478</td>\n",
       "      <td>-0.057461</td>\n",
       "      <td>1.719037</td>\n",
       "      <td>52.00</td>\n",
       "      <td>35.25</td>\n",
       "      <td>-2.0</td>\n",
       "      <td>-43.75</td>\n",
       "      <td>-171.75</td>\n",
       "      <td>189.75</td>\n",
       "    </tr>\n",
       "    <tr>\n",
       "      <th>3</th>\n",
       "      <td>1.541791e+09</td>\n",
       "      <td>-0.033519</td>\n",
       "      <td>0.052672</td>\n",
       "      <td>2.279280</td>\n",
       "      <td>10.25</td>\n",
       "      <td>39.50</td>\n",
       "      <td>52.5</td>\n",
       "      <td>-42.75</td>\n",
       "      <td>-169.75</td>\n",
       "      <td>184.75</td>\n",
       "    </tr>\n",
       "    <tr>\n",
       "      <th>4</th>\n",
       "      <td>1.541791e+09</td>\n",
       "      <td>-0.191536</td>\n",
       "      <td>1.364695</td>\n",
       "      <td>1.302446</td>\n",
       "      <td>-63.25</td>\n",
       "      <td>-45.75</td>\n",
       "      <td>103.0</td>\n",
       "      <td>-92.00</td>\n",
       "      <td>-158.00</td>\n",
       "      <td>209.50</td>\n",
       "    </tr>\n",
       "    <tr>\n",
       "      <th>...</th>\n",
       "      <td>...</td>\n",
       "      <td>...</td>\n",
       "      <td>...</td>\n",
       "      <td>...</td>\n",
       "      <td>...</td>\n",
       "      <td>...</td>\n",
       "      <td>...</td>\n",
       "      <td>...</td>\n",
       "      <td>...</td>\n",
       "      <td>...</td>\n",
       "    </tr>\n",
       "    <tr>\n",
       "      <th>3593</th>\n",
       "      <td>1.541795e+09</td>\n",
       "      <td>2.509123</td>\n",
       "      <td>-19.785683</td>\n",
       "      <td>-0.172383</td>\n",
       "      <td>-37.75</td>\n",
       "      <td>-13.75</td>\n",
       "      <td>29.5</td>\n",
       "      <td>-280.75</td>\n",
       "      <td>263.75</td>\n",
       "      <td>145.75</td>\n",
       "    </tr>\n",
       "    <tr>\n",
       "      <th>3594</th>\n",
       "      <td>1.541795e+09</td>\n",
       "      <td>1.999637</td>\n",
       "      <td>-19.115306</td>\n",
       "      <td>-0.379242</td>\n",
       "      <td>-2.20</td>\n",
       "      <td>7.00</td>\n",
       "      <td>-4.2</td>\n",
       "      <td>-272.60</td>\n",
       "      <td>272.20</td>\n",
       "      <td>156.20</td>\n",
       "    </tr>\n",
       "    <tr>\n",
       "      <th>3595</th>\n",
       "      <td>1.541795e+09</td>\n",
       "      <td>2.034114</td>\n",
       "      <td>-19.460071</td>\n",
       "      <td>-0.471179</td>\n",
       "      <td>18.80</td>\n",
       "      <td>6.20</td>\n",
       "      <td>18.2</td>\n",
       "      <td>-268.00</td>\n",
       "      <td>272.80</td>\n",
       "      <td>156.80</td>\n",
       "    </tr>\n",
       "    <tr>\n",
       "      <th>3596</th>\n",
       "      <td>1.541795e+09</td>\n",
       "      <td>1.754471</td>\n",
       "      <td>-19.425595</td>\n",
       "      <td>-0.639731</td>\n",
       "      <td>-20.20</td>\n",
       "      <td>12.60</td>\n",
       "      <td>24.2</td>\n",
       "      <td>-262.40</td>\n",
       "      <td>272.40</td>\n",
       "      <td>170.40</td>\n",
       "    </tr>\n",
       "    <tr>\n",
       "      <th>3597</th>\n",
       "      <td>1.541795e+09</td>\n",
       "      <td>1.367568</td>\n",
       "      <td>-20.620780</td>\n",
       "      <td>-0.704853</td>\n",
       "      <td>11.40</td>\n",
       "      <td>44.20</td>\n",
       "      <td>7.2</td>\n",
       "      <td>-253.60</td>\n",
       "      <td>282.00</td>\n",
       "      <td>167.60</td>\n",
       "    </tr>\n",
       "  </tbody>\n",
       "</table>\n",
       "<p>3598 rows × 10 columns</p>\n",
       "</div>"
      ],
      "text/plain": [
       "         Timestamp    IMU A1     IMU A2    IMU A3  IMU G1  IMU G2  IMU G3  \\\n",
       "0     1.541791e+09 -0.282516  -0.019154  2.317587  -21.50   23.00     2.5   \n",
       "1     1.541791e+09  0.268151  -0.282516  1.565808    7.00   15.25    16.5   \n",
       "2     1.541791e+09 -0.215478  -0.057461  1.719037   52.00   35.25    -2.0   \n",
       "3     1.541791e+09 -0.033519   0.052672  2.279280   10.25   39.50    52.5   \n",
       "4     1.541791e+09 -0.191536   1.364695  1.302446  -63.25  -45.75   103.0   \n",
       "...            ...       ...        ...       ...     ...     ...     ...   \n",
       "3593  1.541795e+09  2.509123 -19.785683 -0.172383  -37.75  -13.75    29.5   \n",
       "3594  1.541795e+09  1.999637 -19.115306 -0.379242   -2.20    7.00    -4.2   \n",
       "3595  1.541795e+09  2.034114 -19.460071 -0.471179   18.80    6.20    18.2   \n",
       "3596  1.541795e+09  1.754471 -19.425595 -0.639731  -20.20   12.60    24.2   \n",
       "3597  1.541795e+09  1.367568 -20.620780 -0.704853   11.40   44.20     7.2   \n",
       "\n",
       "      IMU M1  IMU M2  IMU M3  \n",
       "0     -39.50 -171.00  186.00  \n",
       "1     -42.25 -165.25  195.25  \n",
       "2     -43.75 -171.75  189.75  \n",
       "3     -42.75 -169.75  184.75  \n",
       "4     -92.00 -158.00  209.50  \n",
       "...      ...     ...     ...  \n",
       "3593 -280.75  263.75  145.75  \n",
       "3594 -272.60  272.20  156.20  \n",
       "3595 -268.00  272.80  156.80  \n",
       "3596 -262.40  272.40  170.40  \n",
       "3597 -253.60  282.00  167.60  \n",
       "\n",
       "[3598 rows x 10 columns]"
      ]
     },
     "execution_count": 97,
     "metadata": {},
     "output_type": "execute_result"
    }
   ],
   "source": [
    "mdf = pd.read_csv(BytesIO(response.content))\n",
    "mdf"
   ]
  },
  {
   "cell_type": "markdown",
   "metadata": {},
   "source": [
    "### delete ride by id"
   ]
  },
  {
   "cell_type": "code",
   "execution_count": 94,
   "metadata": {},
   "outputs": [
    {
     "data": {
      "text/plain": [
       "b'{\"success\": \"ride \\'15692\\' successfully deleted\"}'"
      ]
     },
     "execution_count": 94,
     "metadata": {},
     "output_type": "execute_result"
    }
   ],
   "source": [
    "rideId = '1'\n",
    "if testing:\n",
    "    rideDelete = f'http://127.0.0.1:8000/ride/rides/rideId={rideId}'\n",
    "else:\n",
    "    rideDelete = f'{domainName}/ride/rides/rideId={rideId}'\n",
    "\n",
    "response = requests.delete(rideDelete)\n",
    "response.content"
   ]
  },
  {
   "cell_type": "code",
   "execution_count": null,
   "metadata": {},
   "outputs": [],
   "source": []
  },
  {
   "cell_type": "code",
   "execution_count": null,
   "metadata": {},
   "outputs": [],
   "source": []
  },
  {
   "cell_type": "code",
   "execution_count": null,
   "metadata": {},
   "outputs": [],
   "source": []
  },
  {
   "cell_type": "code",
   "execution_count": null,
   "metadata": {},
   "outputs": [],
   "source": []
  },
  {
   "cell_type": "code",
   "execution_count": null,
   "metadata": {},
   "outputs": [],
   "source": []
  }
 ],
 "metadata": {
  "kernelspec": {
   "display_name": "Python 3",
   "language": "python",
   "name": "python3"
  },
  "language_info": {
   "codemirror_mode": {
    "name": "ipython",
    "version": 3
   },
   "file_extension": ".py",
   "mimetype": "text/x-python",
   "name": "python",
   "nbconvert_exporter": "python",
   "pygments_lexer": "ipython3",
   "version": "3.8.3"
  }
 },
 "nbformat": 4,
 "nbformat_minor": 4
}
