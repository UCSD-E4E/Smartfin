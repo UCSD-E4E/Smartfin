{
 "cells": [
  {
   "cell_type": "markdown",
   "metadata": {},
   "source": [
    "# double_integral_bandpass.py\n",
    "the double_integral_bandpass module is used to calculate the height of a smartfin ride through double integral analysis. It takes in processed imu heights and runs a double integral analysis on the data and calculates the mean height. \n",
    "\n",
    "The goal is to find the method which gives us the smallest error when a scalar is applied. Regardless of the size of the scalar, the smaller the error is, the more consistent the fin is in its measurements. If the error is 0, then we know our method of calculating heights is as consistent as a CDIP buoy. \n",
    "\n",
    "POSSIBLE FUTURE TESTS:\n",
    "- pick rides that have vastly different heights to see if smartfin is consistent with changes in height\n",
    "- pick rides that are all from the same area / rides that are all from different areas"
   ]
  },
  {
   "cell_type": "code",
   "execution_count": 1,
   "metadata": {
    "scrolled": false
   },
   "outputs": [
    {
     "name": "stdout",
     "output_type": "stream",
     "text": [
      "ride initialized\n"
     ]
    }
   ],
   "source": [
    "from smartfin_ride_module import RideModule\n",
    "from double_integral_bandpass import double_integral_bandpass_filter\n",
    "import pandas as pd\n",
    "import requests \n",
    "from io import StringIO\n",
    "from scatter_plot import smartfin_plot # scatter plot module compares CDIP and Smartfin heights\n",
    "\n",
    "# initialize ride module\n",
    "ride = RideModule()\n",
    "\n",
    "# intitalize height analysis module\n",
    "filt = double_integral_bandpass_filter()\n",
    "\n",
    "# get all CDIP buoys\n",
    "buoyListQuery = 'https://lit-sands-95859.herokuapp.com/ride/buoy-list/'\n",
    "buoys = requests.get(buoyListQuery).json()"
   ]
  },
  {
   "cell_type": "code",
   "execution_count": 2,
   "metadata": {},
   "outputs": [],
   "source": [
    "# get list of ride ids\n",
    "# url = 'https://raw.githubusercontent.com/UCSD-E4E/Smartfin/master/Ben%20Experiments/2017%20Ride%20IDs.csv' #2017 data\n",
    "url = 'https://raw.githubusercontent.com/UCSD-E4E/Smartfin/master/Ben%20Experiments/Ride_IDs_2019.csv' #2019 data\n",
    "Ride_ID = pd.read_csv(url)\n",
    "ride_ids = Ride_ID['Ride Number'].values.tolist()\n",
    "ride_ids = ride_ids[:]\n",
    "# really strange rides, figure out how to remove automatically\n",
    "ride_ids[28]\n",
    "del(ride_ids[28])"
   ]
  },
  {
   "cell_type": "markdown",
   "metadata": {},
   "source": [
    "## functions"
   ]
  },
  {
   "cell_type": "code",
   "execution_count": 3,
   "metadata": {},
   "outputs": [],
   "source": [
    "\"\"\"\n",
    "get the raw motion dataframes and CDIP_heights from smartfin ride api \n",
    "\"\"\"\n",
    "def query_ride_api(ride_ids):\n",
    "    for ride in ride_ids:\n",
    "        rideCreate = f'https://lit-sands-95859.herokuapp.com/ride/ride-get/{ride}/' # creates new ride and upload all ride data to db\n",
    "        response = requests.get(rideCreate)\n",
    "        data = response.json()\n",
    "        if len(data) <= 1: \n",
    "            print('found bad ride')\n",
    "            continue\n",
    "        mdf_str = StringIO(data['motionData'])\n",
    "        mdf = pd.read_csv(mdf_str)\n",
    "        mdfs.append(mdf)\n",
    "        CDIP_heights.append(data['heightCDIP'])\n",
    "        \n",
    "    return mdfs, CDIP_heights"
   ]
  },
  {
   "cell_type": "code",
   "execution_count": 65,
   "metadata": {},
   "outputs": [],
   "source": [
    "import numpy as np\n",
    "import random\n",
    "\n",
    "def filter_data(mdf):\n",
    "    \n",
    "    mean = mdf['IMU A2'].mean()\n",
    "    std = mdf['IMU A2'].std()\n",
    "    Upperbound = mean+(2*std)\n",
    "    Lowerbound = mean-(2*std)\n",
    "    Up = (mean+.5)\n",
    "    Low = (mean-.5)\n",
    "    og_mdf = len(mdf)\n",
    "#     print('mean is: ' + str(mean))\n",
    "#     print('std. dev. is: ' + str(std))\n",
    "#     print('Upperbound is: ' + str(Upperbound))\n",
    "#     print('Lowerbound is: ' + str(Lowerbound))\n",
    "    mdf.loc[mdf['IMU A2'] > Upperbound, 'IMU A2'] = float(random.uniform(Up, Low))\n",
    "    mdf.loc[mdf['IMU A2'] < Lowerbound, 'IMU A2'] = float(random.uniform(Up, Low))\n",
    "#     print(df['IMU A2'].min())\n",
    "\n",
    "    points_deleted = og_mdf - len(mdf)\n",
    "    print(f'points deleted: {points_deleted}')\n",
    "    return mdf\n",
    "   \n",
    "\n",
    "def filter_chunks(accs, times):\n",
    "     # find threshold for chunk values\n",
    "    means = []\n",
    "\n",
    "    for chunk in accs:\n",
    "        mean = chunk.mean()\n",
    "        means.append(mean)\n",
    "\n",
    "    chunk_mean = np.mean(means)\n",
    "    chunk_std = np.std(means) * 2\n",
    "\n",
    "    # find the indices of the bad chunks\n",
    "    bad_chunk_indices = []\n",
    "\n",
    "    for i in range(len(means)):\n",
    "        if abs(chunk_mean - means[i]) > chunk_std:\n",
    "            bad_chunk_indices.append(i)\n",
    "            \n",
    "    og_accs = len(accs)\n",
    "\n",
    "    # rebuild acceleration chunk array without values from bad chunks\n",
    "    accs = [i for j, i in enumerate(accs) if j not in bad_chunk_indices]\n",
    "    times = [i for j, i in enumerate(times) if j not in bad_chunk_indices]\n",
    "    chunks_deleted = og_accs - len(accs)\n",
    "    print(f'chunks deleted: {chunks_deleted}')\n",
    "        \n",
    "    return accs, times\n",
    "\n",
    "\"\"\"\n",
    "get chunks from dataframe and filters bad chunks out of filter keyword arg is true\n",
    "\"\"\"\n",
    "def process_motion_data(mdf, f_chunks, f_data):\n",
    "    \n",
    "    if f_data: \n",
    "        mdf = filter_data(mdf)\n",
    "    \n",
    "    # get data chunks\n",
    "    accs, times, chunk_len = filt.chunk_data(mdf['IMU A2'], mdf['Time'])\n",
    "    \n",
    "    if f_chunks: \n",
    "        accs, times = filter_chunks(accs, times)\n",
    "\n",
    "    return accs, times, chunk_len"
   ]
  },
  {
   "cell_type": "code",
   "execution_count": 66,
   "metadata": {},
   "outputs": [],
   "source": [
    "\"\"\"\n",
    "get heights of smartfin and cdip buoys of a single smartfin ride\n",
    "\"\"\"\n",
    "def get_heights(mdfs, buoys, filter_chunks=False, filter_data=False):\n",
    "    \n",
    "    filt = double_integral_bandpass_filter()\n",
    "    displacements = []\n",
    "    CDIP_heights = []\n",
    "    c = 0 \n",
    "    for mdf in mdfs:\n",
    "        mdf_len = len(mdf)\n",
    "        mdf_quarter = mdf_len / 4\n",
    "        mdf_half = mdf_quarter * 2\n",
    "        mdf = mdf[int(mdf_quarter):int(mdf_half)]\n",
    "        accs, times, chunk_len = process_motion_data(mdf, filter_chunks, filter_data)\n",
    "        d, ds = (filt.get_displacement_data(accs, times))\n",
    "        displacements.append(d)\n",
    "#         print(c)\n",
    "        c += 1\n",
    "    \n",
    "    return displacements"
   ]
  },
  {
   "cell_type": "code",
   "execution_count": 67,
   "metadata": {},
   "outputs": [],
   "source": [
    "\"\"\"\n",
    "calibrates the scalar to minimize error between smartfin and cdip heights (or any other heights were trying to match)\n",
    "\"\"\"\n",
    "def calculate_scalar(smartfin_h, CDIP_h):\n",
    "    \n",
    "    scalar = 1\n",
    "    min_error = 10000000\n",
    "    \n",
    "    smartfin_h = np.array(smartfin_h)\n",
    "    CDIP_h = np.array(CDIP_h)\n",
    "    \n",
    "    # calculate scalar to nearest whole number\n",
    "    for i in range(1, 10):\n",
    "        \n",
    "        # calculate error of multiplying by current scalar\n",
    "        heights = smartfin_h * i\n",
    "        error = abs((1 - (CDIP_h/heights)) *100)\n",
    "        error = np.mean(error)\n",
    "        \n",
    "        # if current scalar yields smaller error than min_error\n",
    "        if error < min_error:\n",
    "            scalar = i\n",
    "            min_error = error\n",
    "#             print(f'scalar: {scalar}')\n",
    "#             print(f'error: {min_error}')\n",
    "            \n",
    "    # calculate scalar to nearest thousandth\n",
    "    for i in range(0, 1000):\n",
    "        hundredth = i / 1000\n",
    "        temp_scalar = scalar + hundredth\n",
    "        heights = smartfin_h * temp_scalar\n",
    "        error = abs((1 - (CDIP_h/heights)) *100)\n",
    "        error = np.mean(error)\n",
    "#         print(f'scalar: {temp_scalar}')\n",
    "#         print(f'error: {error}')\n",
    "        if error < min_error:\n",
    "            scalar = temp_scalar\n",
    "            min_error = error\n",
    "#             print(f'MIN scalar: {scalar}')\n",
    "#             print(f'MIN error: {min_error}')\n",
    "          \n",
    "    return scalar"
   ]
  },
  {
   "cell_type": "markdown",
   "metadata": {},
   "source": [
    "## main variables"
   ]
  },
  {
   "cell_type": "code",
   "execution_count": 68,
   "metadata": {
    "scrolled": true
   },
   "outputs": [
    {
     "name": "stdout",
     "output_type": "stream",
     "text": [
      "81\n"
     ]
    }
   ],
   "source": [
    "mdfs = []\n",
    "CDIP_heights = []\n",
    "mdfs, CDIP_heights = query_ride_api(ride_ids)\n",
    "print(len(mdfs))"
   ]
  },
  {
   "cell_type": "markdown",
   "metadata": {},
   "source": [
    "## Base case: smartfin accuraccy without filtering chunks or data\n",
    "use this case to compare against"
   ]
  },
  {
   "cell_type": "code",
   "execution_count": 69,
   "metadata": {
    "scrolled": true
   },
   "outputs": [],
   "source": [
    "# scatter_plot code without the filtering\n",
    "displacements = get_heights(mdfs, buoys)"
   ]
  },
  {
   "cell_type": "code",
   "execution_count": 70,
   "metadata": {
    "scrolled": false
   },
   "outputs": [
    {
     "name": "stdout",
     "output_type": "stream",
     "text": [
      "scalar: 3.405999999999999\n",
      "intialized\n"
     ]
    },
    {
     "data": {
      "image/png": "[encoded data removed]",
      "text/plain": [
       "<Figure size 432x288 with 1 Axes>"
      ]
     },
     "metadata": {
      "needs_background": "light"
     },
     "output_type": "display_data"
    },
    {
     "name": "stdout",
     "output_type": "stream",
     "text": [
      "mean error is 62.85980609812359%\n"
     ]
    },
    {
     "data": {
      "image/png": "[encoded data removed]",
      "text/plain": [
       "<Figure size 432x288 with 1 Axes>"
      ]
     },
     "metadata": {
      "needs_background": "light"
     },
     "output_type": "display_data"
    },
    {
     "name": "stdout",
     "output_type": "stream",
     "text": [
      "mean error is 26.93308687034573%\n"
     ]
    }
   ],
   "source": [
    "scalar = calculate_scalar(displacements, CDIP_heights)\n",
    "print(f'scalar: {scalar}')\n",
    "plot = smartfin_plot()\n",
    "plot.scatter_plot(displacements, CDIP_heights, scalar)"
   ]
  },
  {
   "cell_type": "markdown",
   "metadata": {},
   "source": [
    "## option 1: filter chunks without filtering data"
   ]
  },
  {
   "cell_type": "markdown",
   "metadata": {},
   "source": [
    "calculate heights without bad chunks"
   ]
  },
  {
   "cell_type": "code",
   "execution_count": 71,
   "metadata": {
    "scrolled": true
   },
   "outputs": [
    {
     "name": "stdout",
     "output_type": "stream",
     "text": [
      "chunks deleted: 4\n",
      "chunks deleted: 2\n",
      "chunks deleted: 2\n",
      "chunks deleted: 2\n",
      "chunks deleted: 6\n",
      "chunks deleted: 6\n",
      "chunks deleted: 3\n",
      "chunks deleted: 4\n",
      "chunks deleted: 4\n",
      "chunks deleted: 4\n",
      "chunks deleted: 7\n",
      "chunks deleted: 4\n",
      "chunks deleted: 5\n",
      "chunks deleted: 4\n",
      "chunks deleted: 8\n",
      "chunks deleted: 11\n",
      "chunks deleted: 7\n",
      "chunks deleted: 9\n",
      "chunks deleted: 3\n",
      "chunks deleted: 2\n",
      "chunks deleted: 9\n",
      "chunks deleted: 6\n",
      "chunks deleted: 8\n",
      "chunks deleted: 11\n",
      "chunks deleted: 11\n",
      "chunks deleted: 2\n",
      "chunks deleted: 2\n",
      "chunks deleted: 2\n",
      "chunks deleted: 3\n",
      "chunks deleted: 3\n",
      "chunks deleted: 1\n",
      "chunks deleted: 3\n",
      "chunks deleted: 3\n",
      "chunks deleted: 3\n",
      "chunks deleted: 6\n",
      "chunks deleted: 6\n",
      "chunks deleted: 3\n",
      "chunks deleted: 4\n",
      "chunks deleted: 4\n",
      "chunks deleted: 3\n",
      "chunks deleted: 4\n",
      "chunks deleted: 6\n",
      "chunks deleted: 5\n",
      "chunks deleted: 2\n",
      "chunks deleted: 2\n",
      "chunks deleted: 4\n",
      "chunks deleted: 6\n",
      "chunks deleted: 4\n",
      "chunks deleted: 2\n",
      "chunks deleted: 5\n",
      "chunks deleted: 7\n",
      "chunks deleted: 4\n",
      "chunks deleted: 9\n",
      "chunks deleted: 2\n",
      "chunks deleted: 11\n",
      "chunks deleted: 1\n",
      "chunks deleted: 5\n",
      "chunks deleted: 2\n",
      "chunks deleted: 1\n",
      "chunks deleted: 8\n",
      "chunks deleted: 4\n",
      "chunks deleted: 5\n",
      "chunks deleted: 1\n",
      "chunks deleted: 4\n",
      "chunks deleted: 7\n",
      "chunks deleted: 3\n",
      "chunks deleted: 2\n",
      "chunks deleted: 2\n",
      "chunks deleted: 3\n",
      "chunks deleted: 3\n",
      "chunks deleted: 5\n",
      "chunks deleted: 4\n",
      "chunks deleted: 6\n",
      "chunks deleted: 3\n",
      "chunks deleted: 6\n",
      "chunks deleted: 5\n",
      "chunks deleted: 3\n",
      "chunks deleted: 4\n",
      "chunks deleted: 5\n",
      "chunks deleted: 4\n",
      "chunks deleted: 4\n"
     ]
    }
   ],
   "source": [
    "displacements = get_heights(mdfs, buoys, filter_chunks=True)"
   ]
  },
  {
   "cell_type": "code",
   "execution_count": 72,
   "metadata": {
    "scrolled": false
   },
   "outputs": [
    {
     "name": "stdout",
     "output_type": "stream",
     "text": [
      "scalar: 4\n",
      "intialized\n"
     ]
    },
    {
     "data": {
      "image/png": "[encoded data removed]",
      "text/plain": [
       "<Figure size 432x288 with 1 Axes>"
      ]
     },
     "metadata": {
      "needs_background": "light"
     },
     "output_type": "display_data"
    },
    {
     "name": "stdout",
     "output_type": "stream",
     "text": [
      "mean error is 65.17492712083855%\n"
     ]
    },
    {
     "data": {
      "image/png": "[encoded data removed]",
      "text/plain": [
       "<Figure size 432x288 with 1 Axes>"
      ]
     },
     "metadata": {
      "needs_background": "light"
     },
     "output_type": "display_data"
    },
    {
     "name": "stdout",
     "output_type": "stream",
     "text": [
      "mean error is 27.27097275312057%\n"
     ]
    }
   ],
   "source": [
    "scalar = calculate_scalar(displacements, CDIP_heights)\n",
    "print(f'scalar: {scalar}')\n",
    "plot = smartfin_plot()\n",
    "plot.scatter_plot(displacements, CDIP_heights, scalar)"
   ]
  },
  {
   "cell_type": "markdown",
   "metadata": {},
   "source": [
    "## option 2 filter data but not chunks"
   ]
  },
  {
   "cell_type": "code",
   "execution_count": 73,
   "metadata": {
    "scrolled": true
   },
   "outputs": [
    {
     "name": "stdout",
     "output_type": "stream",
     "text": [
      "points deleted: 0\n",
      "points deleted: 0\n"
     ]
    },
    {
     "name": "stderr",
     "output_type": "stream",
     "text": [
      "C:\\Users\\evans\\anaconda3\\lib\\site-packages\\pandas\\core\\indexing.py:966: SettingWithCopyWarning: \n",
      "A value is trying to be set on a copy of a slice from a DataFrame.\n",
      "Try using .loc[row_indexer,col_indexer] = value instead\n",
      "\n",
      "See the caveats in the documentation: https://pandas.pydata.org/pandas-docs/stable/user_guide/indexing.html#returning-a-view-versus-a-copy\n",
      "  self.obj[item] = s\n"
     ]
    },
    {
     "name": "stdout",
     "output_type": "stream",
     "text": [
      "points deleted: 0\n",
      "points deleted: 0\n",
      "points deleted: 0\n",
      "points deleted: 0\n",
      "points deleted: 0\n",
      "points deleted: 0\n",
      "points deleted: 0\n",
      "points deleted: 0\n",
      "points deleted: 0\n",
      "points deleted: 0\n",
      "points deleted: 0\n",
      "points deleted: 0\n",
      "points deleted: 0\n",
      "points deleted: 0\n",
      "points deleted: 0\n",
      "points deleted: 0\n",
      "points deleted: 0\n",
      "points deleted: 0\n",
      "points deleted: 0\n",
      "points deleted: 0\n",
      "points deleted: 0\n",
      "points deleted: 0\n",
      "points deleted: 0\n",
      "points deleted: 0\n",
      "points deleted: 0\n",
      "points deleted: 0\n",
      "points deleted: 0\n",
      "points deleted: 0\n",
      "points deleted: 0\n",
      "points deleted: 0\n",
      "points deleted: 0\n",
      "points deleted: 0\n",
      "points deleted: 0\n",
      "points deleted: 0\n",
      "points deleted: 0\n",
      "points deleted: 0\n",
      "points deleted: 0\n",
      "points deleted: 0\n",
      "points deleted: 0\n",
      "points deleted: 0\n",
      "points deleted: 0\n",
      "points deleted: 0\n",
      "points deleted: 0\n",
      "points deleted: 0\n",
      "points deleted: 0\n",
      "points deleted: 0\n",
      "points deleted: 0\n",
      "points deleted: 0\n",
      "points deleted: 0\n",
      "points deleted: 0\n",
      "points deleted: 0\n",
      "points deleted: 0\n",
      "points deleted: 0\n",
      "points deleted: 0\n",
      "points deleted: 0\n",
      "points deleted: 0\n",
      "points deleted: 0\n",
      "points deleted: 0\n",
      "points deleted: 0\n",
      "points deleted: 0\n",
      "points deleted: 0\n",
      "points deleted: 0\n",
      "points deleted: 0\n",
      "points deleted: 0\n",
      "points deleted: 0\n",
      "points deleted: 0\n",
      "points deleted: 0\n",
      "points deleted: 0\n",
      "points deleted: 0\n",
      "points deleted: 0\n",
      "points deleted: 0\n",
      "points deleted: 0\n",
      "points deleted: 0\n",
      "points deleted: 0\n",
      "points deleted: 0\n",
      "points deleted: 0\n",
      "points deleted: 0\n",
      "points deleted: 0\n",
      "points deleted: 0\n"
     ]
    }
   ],
   "source": [
    "displacements = get_heights(mdfs, buoys, filter_data=True)"
   ]
  },
  {
   "cell_type": "code",
   "execution_count": 74,
   "metadata": {
    "scrolled": false
   },
   "outputs": [
    {
     "name": "stdout",
     "output_type": "stream",
     "text": [
      "scalar: 4\n",
      "intialized\n"
     ]
    },
    {
     "data": {
      "image/png": "[encoded data removed]",
      "text/plain": [
       "<Figure size 432x288 with 1 Axes>"
      ]
     },
     "metadata": {
      "needs_background": "light"
     },
     "output_type": "display_data"
    },
    {
     "name": "stdout",
     "output_type": "stream",
     "text": [
      "mean error is 69.42253242299108%\n"
     ]
    },
    {
     "data": {
      "image/png": "[encoded data removed]",
      "text/plain": [
       "<Figure size 432x288 with 1 Axes>"
      ]
     },
     "metadata": {
      "needs_background": "light"
     },
     "output_type": "display_data"
    },
    {
     "name": "stdout",
     "output_type": "stream",
     "text": [
      "mean error is 23.218817152025313%\n"
     ]
    }
   ],
   "source": [
    "scalar = calculate_scalar(displacements, CDIP_heights)\n",
    "print(f'scalar: {scalar}')\n",
    "plot = smartfin_plot()\n",
    "plot.scatter_plot(displacements, CDIP_heights, scalar)"
   ]
  },
  {
   "cell_type": "markdown",
   "metadata": {},
   "source": [
    "## option 3: filter both data and chunks (expected to be the best method)"
   ]
  },
  {
   "cell_type": "code",
   "execution_count": 75,
   "metadata": {
    "scrolled": true
   },
   "outputs": [
    {
     "name": "stdout",
     "output_type": "stream",
     "text": [
      "points deleted: 0\n",
      "chunks deleted: 2\n",
      "points deleted: 0\n",
      "chunks deleted: 2\n",
      "points deleted: 0\n",
      "chunks deleted: 2\n",
      "points deleted: 0\n",
      "chunks deleted: 4\n",
      "points deleted: 0\n",
      "chunks deleted: 7\n",
      "points deleted: 0\n",
      "chunks deleted: 3\n",
      "points deleted: 0\n",
      "chunks deleted: 2\n",
      "points deleted: 0\n",
      "chunks deleted: 2\n",
      "points deleted: 0\n",
      "chunks deleted: 4\n",
      "points deleted: 0\n",
      "chunks deleted: 1\n",
      "points deleted: 0\n",
      "chunks deleted: 4\n",
      "points deleted: 0\n",
      "chunks deleted: 2\n",
      "points deleted: 0\n",
      "chunks deleted: 3\n",
      "points deleted: 0\n",
      "chunks deleted: 6\n",
      "points deleted: 0\n",
      "chunks deleted: 3\n",
      "points deleted: 0\n",
      "chunks deleted: 9\n",
      "points deleted: 0\n",
      "chunks deleted: 6\n",
      "points deleted: 0\n",
      "chunks deleted: 12\n",
      "points deleted: 0\n",
      "chunks deleted: 4\n",
      "points deleted: 0\n",
      "chunks deleted: 10\n",
      "points deleted: 0\n",
      "chunks deleted: 6\n",
      "points deleted: 0\n",
      "chunks deleted: 3\n",
      "points deleted: 0\n",
      "chunks deleted: 8\n",
      "points deleted: 0\n",
      "chunks deleted: 7\n",
      "points deleted: 0\n",
      "chunks deleted: 5\n",
      "points deleted: 0\n",
      "chunks deleted: 4\n",
      "points deleted: 0\n",
      "chunks deleted: 3\n",
      "points deleted: 0\n",
      "chunks deleted: 3\n",
      "points deleted: 0\n",
      "chunks deleted: 6\n",
      "points deleted: 0\n",
      "chunks deleted: 4\n",
      "points deleted: 0\n",
      "chunks deleted: 2\n",
      "points deleted: 0\n",
      "chunks deleted: 4\n",
      "points deleted: 0\n",
      "chunks deleted: 4\n",
      "points deleted: 0\n",
      "chunks deleted: 4\n",
      "points deleted: 0\n",
      "chunks deleted: 6\n",
      "points deleted: 0\n",
      "chunks deleted: 4\n",
      "points deleted: 0\n",
      "chunks deleted: 1\n",
      "points deleted: 0\n",
      "chunks deleted: 3\n",
      "points deleted: 0\n",
      "chunks deleted: 6\n",
      "points deleted: 0\n",
      "chunks deleted: 2\n",
      "points deleted: 0\n",
      "chunks deleted: 2\n",
      "points deleted: 0\n",
      "chunks deleted: 5\n",
      "points deleted: 0\n",
      "chunks deleted: 6\n",
      "points deleted: 0\n",
      "chunks deleted: 7\n",
      "points deleted: 0\n",
      "chunks deleted: 5\n",
      "points deleted: 0\n",
      "chunks deleted: 7\n",
      "points deleted: 0\n",
      "chunks deleted: 3\n",
      "points deleted: 0\n",
      "chunks deleted: 2\n",
      "points deleted: 0\n",
      "chunks deleted: 4\n",
      "points deleted: 0\n",
      "chunks deleted: 7\n",
      "points deleted: 0\n",
      "chunks deleted: 7\n",
      "points deleted: 0\n",
      "chunks deleted: 4\n",
      "points deleted: 0\n",
      "chunks deleted: 4\n",
      "points deleted: 0\n",
      "chunks deleted: 4\n",
      "points deleted: 0\n",
      "chunks deleted: 7\n",
      "points deleted: 0\n",
      "chunks deleted: 8\n",
      "points deleted: 0\n",
      "chunks deleted: 2\n",
      "points deleted: 0\n",
      "chunks deleted: 5\n",
      "points deleted: 0\n",
      "chunks deleted: 4\n",
      "points deleted: 0\n",
      "chunks deleted: 5\n",
      "points deleted: 0\n",
      "chunks deleted: 6\n",
      "points deleted: 0\n",
      "chunks deleted: 4\n",
      "points deleted: 0\n",
      "chunks deleted: 4\n",
      "points deleted: 0\n",
      "chunks deleted: 4\n",
      "points deleted: 0\n",
      "chunks deleted: 3\n",
      "points deleted: 0\n",
      "chunks deleted: 3\n",
      "points deleted: 0\n",
      "chunks deleted: 3\n",
      "points deleted: 0\n",
      "chunks deleted: 0\n",
      "points deleted: 0\n",
      "chunks deleted: 5\n",
      "points deleted: 0\n",
      "chunks deleted: 2\n",
      "points deleted: 0\n",
      "chunks deleted: 5\n",
      "points deleted: 0\n",
      "chunks deleted: 3\n",
      "points deleted: 0\n",
      "chunks deleted: 6\n",
      "points deleted: 0\n",
      "chunks deleted: 2\n",
      "points deleted: 0\n",
      "chunks deleted: 6\n",
      "points deleted: 0\n",
      "chunks deleted: 3\n",
      "points deleted: 0\n",
      "chunks deleted: 2\n",
      "points deleted: 0\n",
      "chunks deleted: 10\n",
      "points deleted: 0\n",
      "chunks deleted: 1\n",
      "points deleted: 0\n",
      "chunks deleted: 9\n",
      "points deleted: 0\n",
      "chunks deleted: 2\n"
     ]
    }
   ],
   "source": [
    "displacements = get_heights(mdfs, buoys, filter_chunks=True, filter_data=True)"
   ]
  },
  {
   "cell_type": "code",
   "execution_count": 76,
   "metadata": {
    "scrolled": false
   },
   "outputs": [
    {
     "name": "stdout",
     "output_type": "stream",
     "text": [
      "scalar: 4.066\n",
      "intialized\n"
     ]
    },
    {
     "data": {
      "image/png": "[encoded data removed]",
      "text/plain": [
       "<Figure size 432x288 with 1 Axes>"
      ]
     },
     "metadata": {
      "needs_background": "light"
     },
     "output_type": "display_data"
    },
    {
     "name": "stdout",
     "output_type": "stream",
     "text": [
      "mean error is 71.96852292727125%\n"
     ]
    },
    {
     "data": {
      "image/png": "[encoded data removed]",
      "text/plain": [
       "<Figure size 432x288 with 1 Axes>"
      ]
     },
     "metadata": {
      "needs_background": "light"
     },
     "output_type": "display_data"
    },
    {
     "name": "stdout",
     "output_type": "stream",
     "text": [
      "mean error is 21.159906333360187%\n"
     ]
    }
   ],
   "source": [
    "scalar = calculate_scalar(displacements, CDIP_heights)\n",
    "print(f'scalar: {scalar}')\n",
    "plot = smartfin_plot()\n",
    "plot.scatter_plot(displacements, CDIP_heights, scalar)"
   ]
  },
  {
   "cell_type": "code",
   "execution_count": null,
   "metadata": {},
   "outputs": [],
   "source": []
  },
  {
   "cell_type": "code",
   "execution_count": null,
   "metadata": {},
   "outputs": [],
   "source": []
  }
 ],
 "metadata": {
  "kernelspec": {
   "display_name": "Python 3",
   "language": "python",
   "name": "python3"
  },
  "language_info": {
   "codemirror_mode": {
    "name": "ipython",
    "version": 3
   },
   "file_extension": ".py",
   "mimetype": "text/x-python",
   "name": "python",
   "nbconvert_exporter": "python",
   "pygments_lexer": "ipython3",
   "version": "3.8.3"
  }
 },
 "nbformat": 4,
 "nbformat_minor": 4
}
