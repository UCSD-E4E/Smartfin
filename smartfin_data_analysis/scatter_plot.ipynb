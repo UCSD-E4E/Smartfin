{
 "cells": [
  {
   "cell_type": "markdown",
   "metadata": {},
   "source": [
    "# scatter_plot\n",
    "This is an example of all the techniques used in this folder, however all code is explicitly written here rather than using code stored in the smartfin_ride_api_v2 and double_integral_bandpass filters. (this is because we wrote this in a google colab and were too lazy to copy the modules over). We run our analysis on many smartfin rides and compare the results to heights calculated by CDIP buoys recorded during the date and time of each ride. This shows how consistent our methods are in getting a smartfin to act like a substitude buoy"
   ]
  },
  {
   "cell_type": "code",
   "execution_count": 1,
   "metadata": {
    "colab": {
     "base_uri": "https://localhost:8080/",
     "height": 269
    },
    "colab_type": "code",
    "id": "QfEth_PIAjqM",
    "outputId": "1731b6db-b66b-45e0-8201-a0fd383f4ab6",
    "scrolled": true
   },
   "outputs": [
    {
     "name": "stdout",
     "output_type": "stream",
     "text": [
      "Requirement already satisfied: PeakUtils in c:\\users\\evans\\anaconda3\\lib\\site-packages (1.3.3)\n",
      "Requirement already satisfied: numpy in c:\\users\\evans\\anaconda3\\lib\\site-packages (from PeakUtils) (1.18.5)\n",
      "Requirement already satisfied: scipy in c:\\users\\evans\\anaconda3\\lib\\site-packages (from PeakUtils) (1.5.0)\n",
      "Requirement already satisfied: netCDF4 in c:\\users\\evans\\anaconda3\\lib\\site-packages (1.5.4)\n",
      "Requirement already satisfied: numpy>=1.9 in c:\\users\\evans\\anaconda3\\lib\\site-packages (from netCDF4) (1.18.5)\n",
      "Requirement already satisfied: cftime in c:\\users\\evans\\anaconda3\\lib\\site-packages (from netCDF4) (1.2.1)\n"
     ]
    }
   ],
   "source": [
    "!pip install PeakUtils\n",
    "!pip install netCDF4"
   ]
  },
  {
   "cell_type": "markdown",
   "metadata": {
    "colab_type": "text",
    "id": "DIeYHGdHH9sQ"
   },
   "source": [
    "# imports"
   ]
  },
  {
   "cell_type": "code",
   "execution_count": 2,
   "metadata": {
    "colab": {},
    "colab_type": "code",
    "id": "mKqf1qxKBfJz"
   },
   "outputs": [
    {
     "name": "stdout",
     "output_type": "stream",
     "text": [
      "[16380, 16376, 16345, 16318, 16302, 16301, 16300, 16299, 16298, 16297, 16290, 16289, 16278, 16262, 16253, 16252, 16250, 16249, 16243, 16239, 16238, 16237, 16225, 16222, 16221, 16212, 16211, 16197, 16196, 16195, 16192, 16191, 16189, 16178, 16177, 16175, 16173, 16171, 16169, 16168, 16167, 16161, 16160, 16158, 16152, 16148, 16140, 16137, 16135, 16134, 16128, 16126, 16115, 16106, 16103, 16101, 16100, 16099, 16098, 16088, 16081, 16079, 16076, 16075, 16073, 16072, 16000, 15996, 15983, 15980, 15978, 15972, 15963, 15962, 15953, 15945, 15859, 15858, 15857, 15856, 15854, 15848]\n"
     ]
    }
   ],
   "source": [
    "import pandas as pd\n",
    "import numpy as np\n",
    "import scipy as sp\n",
    "import statsmodels.api as sm\n",
    "import seaborn as sns\n",
    "\n",
    "from bs4 import BeautifulSoup\n",
    "from io import BytesIO\n",
    "from sklearn import preprocessing\n",
    "from sklearn.linear_model import LogisticRegression\n",
    "from sklearn.model_selection import train_test_split\n",
    "\n",
    "import os\n",
    "import datetime\n",
    "import pytz\n",
    "import peakutils\n",
    "import re\n",
    "import requests\n",
    "import netCDF4\n",
    "import datetime\n",
    "import time\n",
    "import requests\n",
    "import random\n",
    "\n",
    "\n",
    "import matplotlib\n",
    "import matplotlib.pyplot as plt\n",
    "import matplotlib.dates as mdates\n",
    "\n",
    "plt.rc(\"font\", size=14) \n",
    "sns.set(style=\"white\")\n",
    "sns.set(style=\"whitegrid\", color_codes=True)\n",
    "\n",
    "\n",
    "\n",
    "fin_url_base = 'http://surf.smartfin.org/fin/'\n",
    "str_id_ride = 'rideId = \\'' # backslash allows us to look for single quote\n",
    "str_id_date = 'var date = \\'' # backslash allows us to look for single quote\n",
    "ride_url_base = 'https://surf.smartfin.org/ride/'\n",
    "str_id_csv = 'img id=\"temperatureChart\" class=\"chart\" src=\"' \n",
    "\n",
    "# url = 'https://raw.githubusercontent.com/UCSD-E4E/Smartfin/master/Ben%20Experiments/2017%20Ride%20IDs.csv' #2017 data\n",
    "url = 'https://raw.githubusercontent.com/UCSD-E4E/Smartfin/master/Ben%20Experiments/Ride_IDs_2019.csv' #2019 data\n",
    "Ride_ID = pd.read_csv(url)\n",
    "#for jupyter notebook\n",
    "#Ride_ID = pd.read_csv('2017 Ride IDs.csv')\n",
    "IDs = Ride_ID['Ride Number'].values.tolist()\n",
    "print(IDs)\n",
    "\n",
    "len(IDs)\n",
    "local = False"
   ]
  },
  {
   "cell_type": "markdown",
   "metadata": {},
   "source": [
    "## query api"
   ]
  },
  {
   "cell_type": "code",
   "execution_count": 3,
   "metadata": {},
   "outputs": [],
   "source": [
    "def query_ride_api(ride_ids):\n",
    "    mdfs = []\n",
    "    CDIP_heights = []\n",
    "    times = []\n",
    "    \n",
    "    \n",
    "    for rideId in ride_ids:\n",
    "        if local:\n",
    "            rideCreate =  f'http://127.0.0.1:8000/ride/ride-get/{rideId}/'\n",
    "        else:\n",
    "            rideCreate = f'https://lit-sands-95859.herokuapp.com/ride/ride-get/{rideId}/' # creates new ride and upload all ride data to db\n",
    "        response = requests.get(rideCreate)\n",
    "        data = response.json()\n",
    "        if len(data) <= 1: \n",
    "            print('found bad ride')\n",
    "            continue\n",
    "        file = requests.get(f'https://lit-sands-95859.herokuapp.com/ride/get-dataframe/{rideId}/motion').content\n",
    "        mdf = pd.read_csv(BytesIO(file))\n",
    "        mdfs.append(mdf)\n",
    "        CDIP_heights.append(data['heightCDIP'])\n",
    "        times.append(int(data['endTime']) - int(data['startTime'])) \n",
    "        print(rideId)\n",
    "        \n",
    "    return mdfs, CDIP_heights, times"
   ]
  },
  {
   "cell_type": "markdown",
   "metadata": {
    "colab_type": "text",
    "id": "1HR6tF5pBiKw"
   },
   "source": [
    "## data processing"
   ]
  },
  {
   "cell_type": "code",
   "execution_count": 4,
   "metadata": {
    "colab": {
     "base_uri": "https://localhost:8080/",
     "height": 1000
    },
    "colab_type": "code",
    "id": "ouB2CXWvBlns",
    "outputId": "a4b67948-9fcc-46ec-bff0-efd6d565a2d3",
    "scrolled": true
   },
   "outputs": [
    {
     "name": "stdout",
     "output_type": "stream",
     "text": [
      "16380\n",
      "16376\n",
      "16345\n",
      "16318\n",
      "16302\n",
      "16301\n",
      "16300\n",
      "16299\n",
      "16298\n",
      "16297\n",
      "16290\n",
      "16289\n",
      "16278\n",
      "16262\n",
      "16253\n",
      "16252\n",
      "16250\n",
      "16249\n",
      "16243\n",
      "16239\n",
      "16238\n",
      "16237\n",
      "16225\n",
      "16222\n",
      "16221\n",
      "16212\n",
      "16211\n",
      "16197\n",
      "16196\n",
      "16195\n",
      "16192\n",
      "16191\n",
      "16189\n",
      "16178\n",
      "16177\n",
      "16175\n",
      "16173\n",
      "16171\n",
      "16169\n",
      "16168\n",
      "16167\n",
      "16161\n",
      "16160\n",
      "16158\n",
      "16152\n",
      "16148\n",
      "16140\n",
      "16137\n",
      "16135\n",
      "16134\n",
      "16128\n",
      "16126\n",
      "16115\n",
      "16106\n",
      "16103\n",
      "16101\n",
      "16100\n",
      "16099\n",
      "16098\n",
      "16088\n",
      "16081\n",
      "16079\n",
      "16076\n",
      "16075\n",
      "16073\n",
      "16072\n",
      "16000\n",
      "15996\n",
      "15983\n",
      "15980\n",
      "15978\n",
      "15972\n",
      "15963\n",
      "15962\n",
      "15953\n",
      "15945\n",
      "15859\n",
      "15858\n",
      "15857\n",
      "15856\n",
      "15854\n",
      "15848\n"
     ]
    }
   ],
   "source": [
    "dfs = []\n",
    "times = []\n",
    "CDIP_means = []\n",
    "count = 0\n",
    "mdfs, CDIP_means, times = query_ride_api(IDs)"
   ]
  },
  {
   "cell_type": "code",
   "execution_count": 5,
   "metadata": {
    "colab": {
     "base_uri": "https://localhost:8080/",
     "height": 1000
    },
    "colab_type": "code",
    "id": "gvYRqUinI-nx",
    "outputId": "5616f2d4-e88b-4bfb-908d-b62111df5619"
   },
   "outputs": [],
   "source": [
    "dfs = mdfs"
   ]
  },
  {
   "cell_type": "code",
   "execution_count": 6,
   "metadata": {
    "colab": {
     "base_uri": "https://localhost:8080/",
     "height": 370
    },
    "colab_type": "code",
    "id": "jV6o6zAWJCLJ",
    "outputId": "5161be9e-3bca-43c9-f087-71ee6b04e455",
    "scrolled": true
   },
   "outputs": [
    {
     "data": {
      "text/plain": [
       "[0.7799999713897705,\n",
       " 0.7250000238418579,\n",
       " 0.5349999666213989,\n",
       " 0.6299999952316284,\n",
       " 0.39499998092651367,\n",
       " 0.5299999713897705,\n",
       " 0.6200000047683716,\n",
       " 0.5699999928474426,\n",
       " 1.1050000190734863,\n",
       " 0.574999988079071,\n",
       " 1.065000057220459,\n",
       " 0.9399999976158142,\n",
       " 0.9399999976158142,\n",
       " 0.5399999618530273,\n",
       " 0.8999999761581421,\n",
       " 0.7649999856948853,\n",
       " 0.5099999904632568,\n",
       " 0.3774999976158142,\n",
       " 0.8650000095367432,\n",
       " 0.5119999647140503,\n",
       " 0.34666669368743896,\n",
       " 0.3500000238418579,\n",
       " 0.5666666626930237,\n",
       " 0.550000011920929,\n",
       " 0.550000011920929,\n",
       " 0.6399999856948853,\n",
       " 0.6000000238418579,\n",
       " 0.6349999904632568,\n",
       " 0.675000011920929,\n",
       " 0.675000011920929,\n",
       " 0.9850000143051147,\n",
       " 0.8299999833106995,\n",
       " 0.6800000071525574,\n",
       " 0.6200000047683716,\n",
       " 0.48000001907348633,\n",
       " 0.7724999785423279,\n",
       " 0.7300000190734863,\n",
       " 0.5699999928474426,\n",
       " 0.6499999761581421,\n",
       " 0.8350000381469727,\n",
       " 0.6899999976158142,\n",
       " 0.5349999666213989,\n",
       " 0.49000000953674316,\n",
       " 0.8033332824707031,\n",
       " 0.9850000143051147,\n",
       " 1.1349999904632568,\n",
       " 0.49000000953674316,\n",
       " 0.5550000071525574,\n",
       " 0.6150000095367432,\n",
       " 0.44999998807907104,\n",
       " 0.5550000071525574,\n",
       " 0.5550000071525574,\n",
       " 0.6650000214576721,\n",
       " 0.7899999618530273,\n",
       " 1.0950000286102295,\n",
       " 0.6066666841506958,\n",
       " 0.9300000667572021,\n",
       " 0.5900000333786011,\n",
       " 0.9700000286102295,\n",
       " 0.9700000286102295,\n",
       " 0.5566666722297668,\n",
       " 0.515999972820282,\n",
       " 0.8600000143051147,\n",
       " 0.8600000143051147,\n",
       " 0.5550000071525574,\n",
       " 0.550000011920929,\n",
       " 0.45499998331069946,\n",
       " 0.41499999165534973,\n",
       " 0.6299999952316284,\n",
       " 0.2849999964237213,\n",
       " 0.48500001430511475,\n",
       " 0.5066666603088379,\n",
       " 0.8700000047683716,\n",
       " 0.4449999928474426,\n",
       " 0.5400000214576721,\n",
       " 0.3149999976158142,\n",
       " 0.4650000035762787,\n",
       " 0.4699999988079071,\n",
       " 0.41999998688697815,\n",
       " 0.4099999964237213,\n",
       " 0.4099999964237213,\n",
       " 0.49000000953674316]"
      ]
     },
     "execution_count": 6,
     "metadata": {},
     "output_type": "execute_result"
    }
   ],
   "source": [
    "CDIP_means"
   ]
  },
  {
   "cell_type": "code",
   "execution_count": 7,
   "metadata": {
    "colab": {
     "base_uri": "https://localhost:8080/",
     "height": 370
    },
    "colab_type": "code",
    "id": "uRm3yhqrJEdY",
    "outputId": "caa22e78-2650-485a-f618-749bb13c0f32",
    "scrolled": true
   },
   "outputs": [
    {
     "data": {
      "text/plain": [
       "82"
      ]
     },
     "execution_count": 7,
     "metadata": {},
     "output_type": "execute_result"
    }
   ],
   "source": [
    "len(times)"
   ]
  },
  {
   "cell_type": "code",
   "execution_count": 8,
   "metadata": {
    "colab": {
     "base_uri": "https://localhost:8080/",
     "height": 1000
    },
    "colab_type": "code",
    "id": "Mdlhc1yPVQwk",
    "outputId": "ef46eef4-51c7-4053-e97f-4d3507d446ed"
   },
   "outputs": [
    {
     "name": "stdout",
     "output_type": "stream",
     "text": [
      "-13.1393787109375\n",
      "mean is: -0.7216164405873712\n",
      "std. dev. is: 2.1997040785503206\n",
      "Upperbound is: 3.8977621243683025\n",
      "Lowerbound is: -5.340995005543045\n",
      "-5.295974072265625\n",
      "-21.394586035156244\n",
      "mean is: -0.30308556551523397\n",
      "std. dev. is: 2.1498013149432302\n",
      "Upperbound is: 4.21149719586555\n",
      "Lowerbound is: -4.817668326896018\n",
      "-4.7596729003906235\n",
      "-19.95327663574218\n",
      "mean is: -1.8406213291295428\n",
      "std. dev. is: 3.266860904078235\n",
      "Upperbound is: 5.019786569434751\n",
      "Lowerbound is: -8.701029227693837\n",
      "-8.667010009765624\n",
      "-13.230358374023435\n",
      "mean is: -1.2563674289112206\n",
      "std. dev. is: 2.6232107493218724\n",
      "Upperbound is: 4.252375144664712\n",
      "Lowerbound is: -6.765110002487153\n",
      "-6.76122548828125\n",
      "-9.212887988281247\n",
      "mean is: -0.33143273445931076\n",
      "std. dev. is: 1.5505871005826093\n",
      "Upperbound is: 2.924800176764169\n",
      "Lowerbound is: -3.5876656456827902\n",
      "-2.4564509033203117\n",
      "-9.457096557617184\n",
      "mean is: -0.2502728235449754\n",
      "std. dev. is: 1.2640857555861382\n",
      "Upperbound is: 2.404307263185915\n",
      "Lowerbound is: -2.9048529102758653\n",
      "-2.4181436767578117\n",
      "-20.278888061523432\n",
      "mean is: -2.6388640053301766\n",
      "std. dev. is: 4.78356155609298\n",
      "Upperbound is: 7.406615262465081\n",
      "Lowerbound is: -12.684343273125435\n",
      "-12.32056174316406\n",
      "-20.28367646484375\n",
      "mean is: -3.3698655452499775\n",
      "std. dev. is: 6.088809977363506\n",
      "Upperbound is: 9.416635407213386\n",
      "Lowerbound is: -16.156366497713343\n",
      "-15.3611978515625\n",
      "-20.0423409375\n",
      "mean is: -1.8668704523258286\n",
      "std. dev. is: 4.0817937260492725\n",
      "Upperbound is: 6.704896372377643\n",
      "Lowerbound is: -10.4386372770293\n",
      "-10.117896215820313\n",
      "-20.336348901367188\n",
      "mean is: -3.391355773797563\n",
      "std. dev. is: 6.054228256125802\n",
      "Upperbound is: 9.322523564066621\n",
      "Lowerbound is: -16.105235111661745\n",
      "-14.65251416015625\n",
      "-21.768081494140624\n",
      "mean is: -1.6962337697144336\n",
      "std. dev. is: 3.4901125932671566\n",
      "Upperbound is: 5.633002676146595\n",
      "Lowerbound is: -9.025470215575462\n",
      "-8.896853369140622\n",
      "-22.49591879882812\n",
      "mean is: -7.713662275784542\n",
      "std. dev. is: 8.472982780330302\n",
      "Upperbound is: 10.07960156290909\n",
      "Lowerbound is: -25.506926114478176\n",
      "-22.49591879882812\n",
      "-21.34861736328125\n",
      "mean is: -5.338686808197458\n",
      "std. dev. is: 8.382531808370674\n",
      "Upperbound is: 12.264629989380957\n",
      "Lowerbound is: -22.942003605775874\n",
      "-21.34861736328125\n",
      "-20.489577807617188\n",
      "mean is: -0.6576024748257993\n",
      "std. dev. is: 1.8806422656641526\n",
      "Upperbound is: 3.2917462830689215\n",
      "Lowerbound is: -4.60695123272052\n",
      "-4.127603662109375\n",
      "-20.240580834960934\n",
      "mean is: -2.1492921299086647\n",
      "std. dev. is: 3.5029402389784923\n",
      "Upperbound is: 5.20688237194617\n",
      "Lowerbound is: -9.505466631763499\n",
      "-8.21690009765625\n",
      "-14.413093994140626\n",
      "mean is: -1.3455183333261451\n",
      "std. dev. is: 2.9423652741789517\n",
      "Upperbound is: 4.833448742449654\n",
      "Lowerbound is: -7.524485409101944\n",
      "-7.513004809570313\n",
      "-21.600487377929692\n",
      "mean is: -0.7754319234497794\n",
      "std. dev. is: 3.6442217582091727\n",
      "Upperbound is: 6.8774337687894835\n",
      "Lowerbound is: -8.428297615689042\n",
      "-6.962338427734375\n",
      "-6.8043211181640615\n",
      "mean is: -0.12639791281734447\n",
      "std. dev. is: 0.5758157469644645\n",
      "Upperbound is: 1.082815155808031\n",
      "Lowerbound is: -1.33561098144272\n",
      "-1.3168109130859378\n",
      "-22.80237661132812\n",
      "mean is: -0.4605045075560916\n",
      "std. dev. is: 1.0010771788619202\n",
      "Upperbound is: 1.641757568053941\n",
      "Lowerbound is: -2.562766583166124\n",
      "-2.5617957763671875\n",
      "-4.146757275390625\n",
      "mean is: -0.3862896472175453\n",
      "std. dev. is: 0.3773832062112825\n",
      "Upperbound is: 0.406215085826148\n",
      "Lowerbound is: -1.1787943802612386\n",
      "-1.149216796875001\n",
      "-22.96518232421875\n",
      "mean is: -0.6947832057897136\n",
      "std. dev. is: 2.5083122423615194\n",
      "Upperbound is: 4.5726725031694775\n",
      "Lowerbound is: -5.962238914748904\n",
      "-5.817910034179688\n"
     ]
    }
   ],
   "source": [
    "for df in dfs:\n",
    "  print(df['IMU A2'].min())\n",
    "  mean = df['IMU A2'].mean()\n",
    "  std = df['IMU A2'].std()\n",
    "  Upperbound = mean+(2.1*std)\n",
    "  Lowerbound = mean-(2.1*std)\n",
    "  Up = (mean+.5)\n",
    "  Low = (mean-.5)\n",
    "  print('mean is: ' + str(mean))\n",
    "  print('std. dev. is: ' + str(std))\n",
    "  print('Upperbound is: ' + str(Upperbound))\n",
    "  print('Lowerbound is: ' + str(Lowerbound))\n",
    "  df.loc[df['IMU A2'] > Upperbound, 'IMU A2'] = float(random.uniform(Up, Low))\n",
    "  df.loc[df['IMU A2'] < Lowerbound, 'IMU A2'] = float(random.uniform(Up, Low))\n",
    "  print(df['IMU A2'].min())\n",
    "\n",
    "#   x2 = list(range(0, len(df)))\n",
    "#   plt.plot(x2, df['IMU A2'])\n",
    "#   plt.xlabel(\"Time [s]\")\n",
    "#   plt.ylabel(\"Acceleration [m/s^2]\")\n",
    "#   plt.ylim(-18,18)\n",
    "#   plt.show()"
   ]
  },
  {
   "cell_type": "markdown",
   "metadata": {
    "colab_type": "text",
    "id": "q8YkRTMjLyfF"
   },
   "source": [
    "## Calculating double integral of ride"
   ]
  },
  {
   "cell_type": "code",
   "execution_count": 9,
   "metadata": {
    "colab": {},
    "colab_type": "code",
    "id": "l4Vaa4WNL2gB"
   },
   "outputs": [],
   "source": [
    "## Butter Filters for Bandpass:\n",
    "def butter_bandpass(lowcut, highcut, fs, order=5):\n",
    "    nyq = 0.5 * fs\n",
    "    low = lowcut / nyq\n",
    "    high = highcut / nyq\n",
    "    b, a = signal.butter(order, [low, high], btype='band')\n",
    "    return b, a\n",
    "\n",
    "def butter_bandpass_lfilter(data, lowcut, highcut, fs, order=5):\n",
    "    b, a = butter_bandpass(lowcut, highcut, fs, order=order)\n",
    "    y = signal.lfilter(b, a, data)\n",
    "    return y\n",
    "\n",
    "def butter_bandpass_filtfilt(data, lowcut, highcut, fs, order=5):\n",
    "    b, a = butter_bandpass(lowcut, highcut, fs, order=order)\n",
    "    y = signal.filtfilt(b, a, data)\n",
    "    return y\n",
    "\n",
    "\n",
    "\n",
    "##Butter Filters for Highpass:\n",
    "def butter_highpass(highcut, fs, order=5):\n",
    "    nyq = 0.5 * fs\n",
    "    high = highcut / nyq\n",
    "    b, a = signal.butter(order, high, btype='high')\n",
    "    return b, a\n",
    "\n",
    "def butter_highpass_lfilter(data, highcut, fs, order=5):\n",
    "    b, a = butter_lowpass(highcut, fs, order=order)\n",
    "    y = signal.lfilter(b, a, data)\n",
    "    return y\n",
    "\n",
    "\n",
    "\n",
    "##Butter Filters for Lowpass:\n",
    "def butter_lowpass(lowcut, fs, order=5):\n",
    "    nyq = 0.5 * fs\n",
    "    low = lowcut / nyq\n",
    "    b, a = signal.butter(order, low, btype='low')\n",
    "    return b, a\n",
    "\n",
    "def butter_lowpass_lfilter(data, lowcut, fs, order=5):\n",
    "    b, a = butter_lowpass(lowcut, fs, order=order)\n",
    "    y = signal.lfilter(b, a, data)\n",
    "    return y"
   ]
  },
  {
   "cell_type": "code",
   "execution_count": 10,
   "metadata": {
    "colab": {},
    "colab_type": "code",
    "id": "Q254e9u9L5D2",
    "scrolled": true
   },
   "outputs": [
    {
     "name": "stdout",
     "output_type": "stream",
     "text": [
      "chunks deleted: 54\n",
      "chunks deleted: 45\n",
      "chunks deleted: 18\n",
      "chunks deleted: 31\n",
      "chunks deleted: 13\n",
      "chunks deleted: 21\n",
      "chunks deleted: 45\n",
      "chunks deleted: 13\n",
      "chunks deleted: 26\n",
      "chunks deleted: 11\n",
      "chunks deleted: 46\n",
      "chunks deleted: 0\n",
      "chunks deleted: 0\n",
      "chunks deleted: 19\n",
      "chunks deleted: 0\n",
      "chunks deleted: 41\n",
      "chunks deleted: 16\n",
      "chunks deleted: 7\n",
      "chunks deleted: 26\n",
      "chunks deleted: 11\n",
      "chunks deleted: 9\n"
     ]
    }
   ],
   "source": [
    "def double_integral_bandpass(dacc_array, time_array, lowcut, highcut, fs, order):\n",
    "    butter_lfilter = butter_bandpass_lfilter(dacc_array, lowcut, highcut, fs, order=5)\n",
    "\n",
    "    \n",
    "    #First integral is the velocity:\n",
    "    v_integral = integrate.cumtrapz(x=time_array, y=butter_lfilter, initial=0)\n",
    "    detrend_v_integral = signal.detrend(v_integral)\n",
    "    \n",
    "    v_butter_filter_integral = butter_bandpass_lfilter(detrend_v_integral, lowcut, highcut, fs, order=5)\n",
    "    detrend_v_integral = signal.detrend(v_butter_filter_integral)\n",
    "\n",
    "\n",
    "    #Second integral is the displacment:\n",
    "    disp_integral = integrate.cumtrapz(x=time_array, y=v_butter_filter_integral, initial=0)\n",
    "    detrend_disp_integral = signal.detrend(disp_integral)\n",
    "    \n",
    "    disp_butter_filter_integral = butter_bandpass_lfilter(detrend_disp_integral, lowcut, highcut, fs, order=5)\n",
    "    detrend_disp_butter_integral = signal.detrend(disp_butter_filter_integral)\n",
    "    return detrend_disp_butter_integral\n",
    "\n",
    "\n",
    "def chunk_data(acc_array, time_array):\n",
    "    chunk_len = 10\n",
    "    times = []\n",
    "    accs = []\n",
    "    \n",
    "        \n",
    "    for i in range(int(len(acc_array) / chunk_len)):\n",
    "        accs.append(acc_array[i*chunk_len:(i + 1)*chunk_len])\n",
    "        times.append(time_array[i*chunk_len:(i + 1)*chunk_len])\n",
    "    \n",
    "    return accs, times\n",
    "\n",
    "def filter_chunks(accs, times):\n",
    "     # find threshold for chunk values\n",
    "    means = []\n",
    "\n",
    "    for chunk in accs:\n",
    "        mean = chunk.mean()\n",
    "        means.append(mean)\n",
    "\n",
    "    chunk_mean = np.mean(means)\n",
    "    chunk_std = np.std(means) * 2\n",
    "\n",
    "    # find the indices of the bad chunks\n",
    "    bad_chunk_indices = []\n",
    "\n",
    "    for i in range(len(means)):\n",
    "        if abs(chunk_mean - means[i]) > chunk_std:\n",
    "            bad_chunk_indices.append(i)\n",
    "            \n",
    "    og_accs = len(accs)\n",
    "\n",
    "    # rebuild acceleration chunk array without values from bad chunks\n",
    "    accs = [i for j, i in enumerate(accs) if j not in bad_chunk_indices]\n",
    "    times = [i for j, i in enumerate(times) if j not in bad_chunk_indices]\n",
    "    chunks_deleted = og_accs - len(accs)\n",
    "    print(f'chunks deleted: {chunks_deleted}')\n",
    "        \n",
    "    return accs, times\n",
    "\n",
    "        \n",
    "\n",
    "from scipy import stats\n",
    "from scipy import constants\n",
    "from scipy import signal #added\n",
    "from scipy.interpolate import CubicSpline\n",
    "from scipy.interpolate import interp1d\n",
    "from scipy.integrate import simps\n",
    "from scipy.integrate import cumtrapz\n",
    "from scipy import integrate\n",
    "\n",
    "\n",
    "def get_displacement(accs, times):\n",
    "    fs = 5 #redefine the sampling frequency\n",
    "\n",
    "    order=6\n",
    "    lowcut = 0.09\n",
    "    highcut = 1.0\n",
    "    \n",
    "    dacc_array = signal.detrend(accs)    \n",
    "\n",
    "    integral = double_integral_bandpass(dacc_array, times, lowcut, highcut, fs, order)\n",
    "    return integral\n",
    "\n",
    "sig_heights = []\n",
    "\n",
    "for df in dfs:\n",
    "    accs, times = chunk_data(df['IMU A2'], df['Time'])\n",
    "    integrals = []\n",
    "    \n",
    "    accs, times = filter_chunks(accs, times)\n",
    "    \n",
    "    for i in range(len(accs)):\n",
    "        integrals.append(get_displacement(accs[i], times[i]))\n",
    "      \n",
    "    displacements = []\n",
    "    for integral in integrals:\n",
    "        displacements.append(integral.max() - integral.min())\n",
    "\n",
    "      \n",
    "    displacements = np.sort(displacements)\n",
    "    displacements = np.flip(displacements)\n",
    "    third = int(len(displacements) * .33)\n",
    "    sig_heights.append(displacements[0:third].mean())"
   ]
  },
  {
   "cell_type": "code",
   "execution_count": 11,
   "metadata": {
    "colab": {
     "base_uri": "https://localhost:8080/",
     "height": 370
    },
    "colab_type": "code",
    "id": "-msGzexcxqzr",
    "outputId": "bf3f65b4-61d7-4246-8833-2a3987bbb931",
    "scrolled": true
   },
   "outputs": [
    {
     "data": {
      "text/plain": [
       "[0.19496699671693626,\n",
       " 0.21800356043528732,\n",
       " 0.31128346318279243,\n",
       " 0.3739065651416673,\n",
       " 0.20448778549528157,\n",
       " 0.17641724487416602,\n",
       " 0.2238712605301087,\n",
       " 0.22487184334034577,\n",
       " 0.26456323968481776,\n",
       " 0.378294896409982,\n",
       " 0.2405783511692144,\n",
       " 0.3905359792459332,\n",
       " 0.4014991713575092,\n",
       " 0.1809210125606518,\n",
       " 0.31602094727554864,\n",
       " 0.25913140659372325,\n",
       " 0.26070660843701166,\n",
       " 0.22689483977420327,\n",
       " 0.16097307846671358,\n",
       " 0.12918721762130653,\n",
       " 0.24638823652966155]"
      ]
     },
     "execution_count": 11,
     "metadata": {},
     "output_type": "execute_result"
    }
   ],
   "source": [
    "#TODO: figure out the difference between these two\n",
    "sig_heights"
   ]
  },
  {
   "cell_type": "code",
   "execution_count": 12,
   "metadata": {
    "colab": {
     "base_uri": "https://localhost:8080/",
     "height": 370
    },
    "colab_type": "code",
    "id": "AQiMxKDuMbn3",
    "outputId": "907def68-d5f5-46a2-874b-0ea83b8092b7",
    "scrolled": true
   },
   "outputs": [
    {
     "data": {
      "text/plain": [
       "[0.5566666722297668,\n",
       " 0.515999972820282,\n",
       " 0.8600000143051147,\n",
       " 0.8600000143051147,\n",
       " 0.5550000071525574,\n",
       " 0.550000011920929,\n",
       " 0.45499998331069946,\n",
       " 0.41499999165534973,\n",
       " 0.6299999952316284,\n",
       " 0.2849999964237213,\n",
       " 0.48500001430511475,\n",
       " 0.5066666603088379,\n",
       " 0.8700000047683716,\n",
       " 0.4449999928474426,\n",
       " 0.5400000214576721,\n",
       " 0.3149999976158142,\n",
       " 0.4650000035762787,\n",
       " 0.4699999988079071,\n",
       " 0.41999998688697815,\n",
       " 0.4099999964237213,\n",
       " 0.4099999964237213]"
      ]
     },
     "execution_count": 12,
     "metadata": {},
     "output_type": "execute_result"
    }
   ],
   "source": [
    "CDIP_means"
   ]
  },
  {
   "cell_type": "code",
   "execution_count": 13,
   "metadata": {},
   "outputs": [],
   "source": [
    "\"\"\"\n",
    "calibrates the scalar to minimize error between smartfin and cdip heights (or any other heights were trying to match)\n",
    "\"\"\"\n",
    "def calculate_scalar(smartfin_h, CDIP_h):\n",
    "    \n",
    "    scalar = 1\n",
    "    min_error = 10000000\n",
    "    \n",
    "    smartfin_h = np.array(smartfin_h)\n",
    "    CDIP_h = np.array(CDIP_h)\n",
    "    \n",
    "    # calculate scalar to nearest whole number\n",
    "    for i in range(1, 10):\n",
    "        \n",
    "        # calculate error of multiplying by current scalar\n",
    "        heights = smartfin_h * i\n",
    "        error = abs((1 - (CDIP_h/heights)) *100)\n",
    "        error = np.mean(error)\n",
    "        \n",
    "        # if current scalar yields smaller error than min_error\n",
    "        if error < min_error:\n",
    "            scalar = i\n",
    "            min_error = error\n",
    "#             print(f'scalar: {scalar}')\n",
    "#             print(f'error: {min_error}')\n",
    "            \n",
    "    # calculate scalar to nearest thousandth\n",
    "    for i in range(0, 1000):\n",
    "        hundredth = i / 1000\n",
    "        temp_scalar = scalar + hundredth\n",
    "        heights = smartfin_h * temp_scalar\n",
    "        error = abs((1 - (CDIP_h/heights)) *100)\n",
    "        error = np.mean(error)\n",
    "#         print(f'scalar: {temp_scalar}')\n",
    "#         print(f'error: {error}')\n",
    "        if error < min_error:\n",
    "            scalar = temp_scalar\n",
    "            min_error = error\n",
    "#             print(f'MIN scalar: {scalar}')\n",
    "#             print(f'MIN error: {min_error}')\n",
    "          \n",
    "    return scalar"
   ]
  },
  {
   "cell_type": "code",
   "execution_count": 14,
   "metadata": {},
   "outputs": [],
   "source": [
    "scalar = calculate_scalar(sig_heights, CDIP_means)"
   ]
  },
  {
   "cell_type": "markdown",
   "metadata": {
    "colab_type": "text",
    "id": "41miWOCUBsTa"
   },
   "source": [
    "Scatter plot of Buoy vs. Smartfin"
   ]
  },
  {
   "cell_type": "code",
   "execution_count": 15,
   "metadata": {
    "colab": {
     "base_uri": "https://localhost:8080/",
     "height": 723
    },
    "colab_type": "code",
    "id": "Vo6xh-dWzhik",
    "outputId": "9a19f724-d3c7-43df-e53f-eb64b64f7924",
    "scrolled": true
   },
   "outputs": [
    {
     "name": "stdout",
     "output_type": "stream",
     "text": [
      "<class 'list'>\n",
      "<class 'numpy.ndarray'>\n"
     ]
    },
    {
     "data": {
      "image/png": "[encoded data removed]",
      "text/plain": [
       "<Figure size 432x288 with 1 Axes>"
      ]
     },
     "metadata": {},
     "output_type": "display_data"
    },
    {
     "name": "stdout",
     "output_type": "stream",
     "text": [
      "mean error is 51.09230658444817%\n",
      "average difference is 0.27725806799555636 meters\n",
      "average difference is 10.915677862791853 inches\n",
      "length is 21\n"
     ]
    },
    {
     "data": {
      "image/png": "[encoded data removed]",
      "text/plain": [
       "<Figure size 432x288 with 1 Axes>"
      ]
     },
     "metadata": {},
     "output_type": "display_data"
    },
    {
     "name": "stdout",
     "output_type": "stream",
     "text": [
      "mean error is 21.509587245792016%\n",
      "average difference is 0.1389492784638713 meters\n",
      "average difference is 5.47044698805046 inches\n",
      "length is 21\n"
     ]
    }
   ],
   "source": [
    "print(type(sig_heights))\n",
    "fin = np.array(sig_heights)\n",
    "print(type(fin))\n",
    "buoy = np.array(CDIP_means)\n",
    "fin3 = scalar*fin\n",
    "data_to_plot = pd.DataFrame({'Smartfin': fin,'Buoy': buoy, 'fin_converted': fin3, 'diff1': abs(buoy-fin), 'diff2': abs(buoy-fin3)})\n",
    "# data_to_plot.drop(data_to_plot[data_to_plot['diff1'] > 1].index, inplace = True)\n",
    "# data_to_plot.drop(data_to_plot[data_to_plot['diff2'] > .3].index, inplace = True)\n",
    "# data_to_plot.drop(data_to_plot[data_to_plot['Smartfin'] > 1].index, inplace = False)\n",
    "# data_to_plot.drop(data_to_plot[data_to_plot['Buoy'] > 1.3].index, inplace = True)\n",
    "\n",
    "x = list(range(0, len(data_to_plot)))\n",
    "\n",
    "#Original data plot\n",
    "plt.scatter(x, data_to_plot['Smartfin'], color='red')\n",
    "plt.scatter(x, data_to_plot['Buoy'], color='blue')\n",
    "plt.legend(['Smartfin', 'Buoy'], loc=9)\n",
    "plt.xlabel('Session')\n",
    "plt.ylabel('Significant Wave Height [m]')\n",
    "plt.title('2017 Smartfin Height vs. CDIP Buoy Height', size=15)\n",
    "plt.grid()\n",
    "plt.show()\n",
    "\n",
    "error = (abs(data_to_plot['Buoy'] - data_to_plot['Smartfin']) / data_to_plot['Buoy']) * 100\n",
    "error = np.mean(error)\n",
    "avgdiff1 = data_to_plot['diff1'].mean()\n",
    "print('mean error is ' + str(error) + '%')\n",
    "print('average difference is ' + str(avgdiff1) + ' meters')\n",
    "print('average difference is ' + str(avgdiff1*39.3701) + ' inches')\n",
    "print('length is ' + str(len(data_to_plot)))\n",
    "\n",
    "#Converted data plot\n",
    "plt.scatter(x, data_to_plot['fin_converted'], color='red')\n",
    "plt.scatter(x, data_to_plot['Buoy'], color='blue')\n",
    "plt.legend(['Smartfin', 'Buoy'], loc=9)\n",
    "plt.xlabel('Session')\n",
    "plt.ylabel('Significant Wave Height [m]')\n",
    "plt.title('2017 Smartfin Height vs. CDIP Buoy Height', size=15)\n",
    "plt.grid()\n",
    "plt.show()\n",
    "\n",
    "error3 = abs((1 - (data_to_plot['Buoy']/data_to_plot['fin_converted'])) *100)\n",
    "error3 = np.mean(error3)\n",
    "avgdiff2 = data_to_plot['diff2'].mean()\n",
    "print('mean error is ' + str(error3) + '%')\n",
    "print('average difference is ' + str(data_to_plot['diff2'].mean()) + ' meters')\n",
    "print('average difference is ' + str(avgdiff2*39.3701) + ' inches')\n",
    "print('length is ' + str(len(data_to_plot)))"
   ]
  },
  {
   "cell_type": "code",
   "execution_count": 16,
   "metadata": {},
   "outputs": [
    {
     "data": {
      "text/plain": [
       "2.377999999999999"
      ]
     },
     "execution_count": 16,
     "metadata": {},
     "output_type": "execute_result"
    }
   ],
   "source": [
    "scalar"
   ]
  },
  {
   "cell_type": "markdown",
   "metadata": {
    "colab_type": "text",
    "id": "m1qjzL1cE9Wu"
   },
   "source": [
    "Linear Regression Model"
   ]
  },
  {
   "cell_type": "code",
   "execution_count": 17,
   "metadata": {
    "colab": {
     "base_uri": "https://localhost:8080/",
     "height": 229
    },
    "colab_type": "code",
    "id": "O3dkUdsdFHPn",
    "outputId": "74015d03-0a04-4776-a07d-7ecdc4972389"
   },
   "outputs": [
    {
     "ename": "NameError",
     "evalue": "name 'm' is not defined",
     "output_type": "error",
     "traceback": [
      "\u001b[1;31m---------------------------------------------------------------------------\u001b[0m",
      "\u001b[1;31mNameError\u001b[0m                                 Traceback (most recent call last)",
      "\u001b[1;32m<ipython-input-17-fffaa74f0f24>\u001b[0m in \u001b[0;36m<module>\u001b[1;34m\u001b[0m\n\u001b[0;32m      1\u001b[0m \u001b[1;31m# (m,b) = np.polyfit(data_to_plot['Smartfin'],data_to_plot['Buoy'],1)\u001b[0m\u001b[1;33m\u001b[0m\u001b[1;33m\u001b[0m\u001b[1;33m\u001b[0m\u001b[0m\n\u001b[1;32m----> 2\u001b[1;33m \u001b[0myp\u001b[0m \u001b[1;33m=\u001b[0m \u001b[0mnp\u001b[0m\u001b[1;33m.\u001b[0m\u001b[0mpolyval\u001b[0m\u001b[1;33m(\u001b[0m\u001b[1;33m[\u001b[0m\u001b[0mm\u001b[0m\u001b[1;33m,\u001b[0m\u001b[0mb\u001b[0m\u001b[1;33m]\u001b[0m\u001b[1;33m,\u001b[0m\u001b[0mdata_to_plot\u001b[0m\u001b[1;33m[\u001b[0m\u001b[1;34m'Smartfin'\u001b[0m\u001b[1;33m]\u001b[0m\u001b[1;33m)\u001b[0m\u001b[1;33m\u001b[0m\u001b[1;33m\u001b[0m\u001b[0m\n\u001b[0m\u001b[0;32m      3\u001b[0m \u001b[0mequation\u001b[0m \u001b[1;33m=\u001b[0m \u001b[1;34m'y = '\u001b[0m \u001b[1;33m+\u001b[0m \u001b[0mstr\u001b[0m\u001b[1;33m(\u001b[0m\u001b[0mround\u001b[0m\u001b[1;33m(\u001b[0m\u001b[0mm\u001b[0m\u001b[1;33m,\u001b[0m\u001b[1;36m4\u001b[0m\u001b[1;33m)\u001b[0m\u001b[1;33m)\u001b[0m \u001b[1;33m+\u001b[0m \u001b[1;34m'x'\u001b[0m \u001b[1;34m' + '\u001b[0m \u001b[1;33m+\u001b[0m \u001b[0mstr\u001b[0m\u001b[1;33m(\u001b[0m\u001b[0mround\u001b[0m\u001b[1;33m(\u001b[0m\u001b[0mb\u001b[0m\u001b[1;33m,\u001b[0m\u001b[1;36m4\u001b[0m\u001b[1;33m)\u001b[0m\u001b[1;33m)\u001b[0m\u001b[1;33m\u001b[0m\u001b[1;33m\u001b[0m\u001b[0m\n\u001b[0;32m      4\u001b[0m \u001b[0mplt\u001b[0m\u001b[1;33m.\u001b[0m\u001b[0mscatter\u001b[0m\u001b[1;33m(\u001b[0m\u001b[0mdata_to_plot\u001b[0m\u001b[1;33m[\u001b[0m\u001b[1;34m'Smartfin'\u001b[0m\u001b[1;33m]\u001b[0m\u001b[1;33m,\u001b[0m\u001b[0mdata_to_plot\u001b[0m\u001b[1;33m[\u001b[0m\u001b[1;34m'Buoy'\u001b[0m\u001b[1;33m]\u001b[0m\u001b[1;33m,\u001b[0m \u001b[0mcolor\u001b[0m\u001b[1;33m=\u001b[0m\u001b[1;34m'red'\u001b[0m\u001b[1;33m)\u001b[0m\u001b[1;33m\u001b[0m\u001b[1;33m\u001b[0m\u001b[0m\n\u001b[0;32m      5\u001b[0m \u001b[0mplt\u001b[0m\u001b[1;33m.\u001b[0m\u001b[0mplot\u001b[0m\u001b[1;33m(\u001b[0m\u001b[0mdata_to_plot\u001b[0m\u001b[1;33m[\u001b[0m\u001b[1;34m'Smartfin'\u001b[0m\u001b[1;33m]\u001b[0m\u001b[1;33m,\u001b[0m\u001b[0myp\u001b[0m\u001b[1;33m)\u001b[0m\u001b[1;33m\u001b[0m\u001b[1;33m\u001b[0m\u001b[0m\n",
      "\u001b[1;31mNameError\u001b[0m: name 'm' is not defined"
     ]
    }
   ],
   "source": [
    "# (m,b) = np.polyfit(data_to_plot['Smartfin'],data_to_plot['Buoy'],1)\n",
    "yp = np.polyval([m,b],data_to_plot['Smartfin'])\n",
    "equation = 'y = ' + str(round(m,4)) + 'x' ' + ' + str(round(b,4))\n",
    "plt.scatter(data_to_plot['Smartfin'],data_to_plot['Buoy'], color='red')\n",
    "plt.plot(data_to_plot['Smartfin'],yp)\n",
    "#plt.text(1,1, equation)\n",
    "\n",
    "plt.xlabel('Smartfin Height [m]')\n",
    "plt.ylabel('CDIP Buoy Height [m]')\n",
    "plt.title('2017 Smartfin Height vs. CDIP Buoy Height', size=15)\n",
    "plt.grid()\n",
    "plt.show()\n",
    "print('Prediction is: ' + str(equation))\n",
    "\n",
    "#Calculate R^2 value\n",
    "# x = fin\n",
    "# y = buoy\n",
    "\n",
    "correlation_matrix = np.corrcoef(data_to_plot['Smartfin'], data_to_plot['Buoy'])\n",
    "correlation_xy = correlation_matrix[0,1]\n",
    "r_squared = correlation_xy**2\n",
    "\n",
    "print('R^2 value is: ' + str(r_squared))\n",
    "print(len(data_to_plot))"
   ]
  },
  {
   "cell_type": "code",
   "execution_count": null,
   "metadata": {
    "colab": {},
    "colab_type": "code",
    "id": "Y1gG5FwsPWQG"
   },
   "outputs": [],
   "source": [
    "# TODO: figure out how to implement the water time cropper and also match the height analysis in the smartfin app with the one here"
   ]
  },
  {
   "cell_type": "code",
   "execution_count": null,
   "metadata": {},
   "outputs": [],
   "source": []
  },
  {
   "cell_type": "code",
   "execution_count": null,
   "metadata": {},
   "outputs": [],
   "source": []
  },
  {
   "cell_type": "code",
   "execution_count": null,
   "metadata": {},
   "outputs": [],
   "source": []
  },
  {
   "cell_type": "code",
   "execution_count": null,
   "metadata": {},
   "outputs": [],
   "source": []
  },
  {
   "cell_type": "code",
   "execution_count": null,
   "metadata": {},
   "outputs": [],
   "source": []
  },
  {
   "cell_type": "code",
   "execution_count": null,
   "metadata": {},
   "outputs": [],
   "source": []
  },
  {
   "cell_type": "code",
   "execution_count": null,
   "metadata": {},
   "outputs": [],
   "source": []
  },
  {
   "cell_type": "code",
   "execution_count": null,
   "metadata": {},
   "outputs": [],
   "source": [
    "\n"
   ]
  }
 ],
 "metadata": {
  "colab": {
   "collapsed_sections": [],
   "name": "Scatter Plot.ipynb",
   "provenance": []
  },
  "kernelspec": {
   "display_name": "Python 3",
   "language": "python",
   "name": "python3"
  },
  "language_info": {
   "codemirror_mode": {
    "name": "ipython",
    "version": 3
   },
   "file_extension": ".py",
   "mimetype": "text/x-python",
   "name": "python",
   "nbconvert_exporter": "python",
   "pygments_lexer": "ipython3",
   "version": "3.8.3"
  }
 },
 "nbformat": 4,
 "nbformat_minor": 1
}
